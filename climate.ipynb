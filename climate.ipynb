{
 "cells": [
  {
   "cell_type": "markdown",
   "metadata": {},
   "source": [
    "### Introduction\n",
    "In this notebook, I use python programming language for prepping and visualization the data.\n",
    "\n",
    "Thank to python community for making open source.\n",
    "\n",
    "And also, thank to data provider EDGAR(Emissions Database for Global Atmospheric Research). You can download the file from the link [EDGAR](https://edgar.jrc.ec.europa.eu/booklet2018/EDGARv5.0_FT2017_fossil_CO2_booklet2018.xls)."
   ]
  },
  {
   "cell_type": "markdown",
   "metadata": {},
   "source": [
    "### Importing library"
   ]
  },
  {
   "cell_type": "code",
   "execution_count": 1,
   "metadata": {},
   "outputs": [],
   "source": [
    "%store -r __importing_Lib"
   ]
  },
  {
   "cell_type": "code",
   "execution_count": 2,
   "metadata": {},
   "outputs": [
    {
     "name": "stdout",
     "output_type": "stream",
     "text": [
      "matplotlib inline backend and ggplot style are used.\n",
      "Mplotlib version : 3.0.2\n",
      "Numpy version\t : 1.15.4\n",
      "Pandas version\t : 0.24.1\n",
      "Seaborn version\t : 0.9.0\n",
      "Wordcloud version: 1.5.0\n",
      "Other imported is: datetime      \n",
      "\t\t : base64      \n",
      "\t\t : Json\n"
     ]
    }
   ],
   "source": [
    "__importing_Lib"
   ]
  },
  {
   "cell_type": "markdown",
   "metadata": {},
   "source": [
    "### Data importing and cleaning"
   ]
  },
  {
   "cell_type": "code",
   "execution_count": 3,
   "metadata": {},
   "outputs": [
    {
     "data": {
      "text/html": [
       "<div>\n",
       "<style scoped>\n",
       "    .dataframe tbody tr th:only-of-type {\n",
       "        vertical-align: middle;\n",
       "    }\n",
       "\n",
       "    .dataframe tbody tr th {\n",
       "        vertical-align: top;\n",
       "    }\n",
       "\n",
       "    .dataframe thead th {\n",
       "        text-align: right;\n",
       "    }\n",
       "</style>\n",
       "<table border=\"1\" class=\"dataframe\">\n",
       "  <thead>\n",
       "    <tr style=\"text-align: right;\">\n",
       "      <th></th>\n",
       "      <th>1970</th>\n",
       "      <th>1971</th>\n",
       "      <th>1972</th>\n",
       "      <th>1973</th>\n",
       "      <th>1974</th>\n",
       "      <th>1975</th>\n",
       "      <th>1976</th>\n",
       "      <th>1977</th>\n",
       "      <th>1978</th>\n",
       "      <th>1979</th>\n",
       "      <th>1980</th>\n",
       "      <th>1981</th>\n",
       "      <th>1982</th>\n",
       "      <th>1983</th>\n",
       "      <th>1984</th>\n",
       "      <th>1985</th>\n",
       "      <th>1986</th>\n",
       "      <th>1987</th>\n",
       "      <th>1988</th>\n",
       "      <th>1989</th>\n",
       "      <th>1990</th>\n",
       "      <th>1991</th>\n",
       "      <th>1992</th>\n",
       "      <th>1993</th>\n",
       "      <th>1994</th>\n",
       "      <th>1995</th>\n",
       "      <th>1996</th>\n",
       "      <th>1997</th>\n",
       "      <th>1998</th>\n",
       "      <th>1999</th>\n",
       "      <th>2000</th>\n",
       "      <th>2001</th>\n",
       "      <th>2002</th>\n",
       "      <th>2003</th>\n",
       "      <th>2004</th>\n",
       "      <th>2005</th>\n",
       "      <th>2006</th>\n",
       "      <th>2007</th>\n",
       "      <th>2008</th>\n",
       "      <th>2009</th>\n",
       "      <th>2010</th>\n",
       "      <th>2011</th>\n",
       "      <th>2012</th>\n",
       "      <th>2013</th>\n",
       "      <th>2014</th>\n",
       "      <th>2015</th>\n",
       "      <th>2016</th>\n",
       "      <th>2017</th>\n",
       "      <th>total</th>\n",
       "    </tr>\n",
       "  </thead>\n",
       "  <tbody>\n",
       "    <tr>\n",
       "      <th>United States</th>\n",
       "      <td>4700.442593</td>\n",
       "      <td>4559.409065</td>\n",
       "      <td>4807.030516</td>\n",
       "      <td>4994.593521</td>\n",
       "      <td>4827.419794</td>\n",
       "      <td>4612.546517</td>\n",
       "      <td>4907.271052</td>\n",
       "      <td>5071.365396</td>\n",
       "      <td>5066.244895</td>\n",
       "      <td>5105.068531</td>\n",
       "      <td>4877.371739</td>\n",
       "      <td>4807.962003</td>\n",
       "      <td>4562.166138</td>\n",
       "      <td>4541.549825</td>\n",
       "      <td>4751.807135</td>\n",
       "      <td>4777.184401</td>\n",
       "      <td>4736.598507</td>\n",
       "      <td>4894.815355</td>\n",
       "      <td>5118.583071</td>\n",
       "      <td>5175.797099</td>\n",
       "      <td>5085.896784</td>\n",
       "      <td>5046.534890</td>\n",
       "      <td>5128.145232</td>\n",
       "      <td>5249.209892</td>\n",
       "      <td>5326.854476</td>\n",
       "      <td>5379.707757</td>\n",
       "      <td>5528.165152</td>\n",
       "      <td>5702.979288</td>\n",
       "      <td>5717.638921</td>\n",
       "      <td>5738.467798</td>\n",
       "      <td>5942.427756</td>\n",
       "      <td>5882.474238</td>\n",
       "      <td>5803.653423</td>\n",
       "      <td>5878.563276</td>\n",
       "      <td>5964.465752</td>\n",
       "      <td>5971.571218</td>\n",
       "      <td>5867.364040</td>\n",
       "      <td>5946.141058</td>\n",
       "      <td>5754.288794</td>\n",
       "      <td>5339.094743</td>\n",
       "      <td>5580.707796</td>\n",
       "      <td>5451.511124</td>\n",
       "      <td>5273.584600</td>\n",
       "      <td>5341.065980</td>\n",
       "      <td>5413.771542</td>\n",
       "      <td>5247.226361</td>\n",
       "      <td>5146.300675</td>\n",
       "      <td>5107.393212</td>\n",
       "      <td>251710.432935</td>\n",
       "    </tr>\n",
       "    <tr>\n",
       "      <th>China</th>\n",
       "      <td>905.702330</td>\n",
       "      <td>909.490327</td>\n",
       "      <td>970.480168</td>\n",
       "      <td>1010.964814</td>\n",
       "      <td>1029.079341</td>\n",
       "      <td>1179.440223</td>\n",
       "      <td>1226.795283</td>\n",
       "      <td>1379.166366</td>\n",
       "      <td>1555.391439</td>\n",
       "      <td>1593.197822</td>\n",
       "      <td>1559.202220</td>\n",
       "      <td>1545.757609</td>\n",
       "      <td>1616.232974</td>\n",
       "      <td>1701.425517</td>\n",
       "      <td>1855.510863</td>\n",
       "      <td>1870.860230</td>\n",
       "      <td>1976.837700</td>\n",
       "      <td>2115.387714</td>\n",
       "      <td>2275.880128</td>\n",
       "      <td>2354.908651</td>\n",
       "      <td>2397.048052</td>\n",
       "      <td>2532.281676</td>\n",
       "      <td>2664.818900</td>\n",
       "      <td>2889.903130</td>\n",
       "      <td>3070.949644</td>\n",
       "      <td>3382.894171</td>\n",
       "      <td>3366.804617</td>\n",
       "      <td>3426.096234</td>\n",
       "      <td>3504.428799</td>\n",
       "      <td>3435.887590</td>\n",
       "      <td>3671.621881</td>\n",
       "      <td>3845.342160</td>\n",
       "      <td>4147.307156</td>\n",
       "      <td>4813.481884</td>\n",
       "      <td>5556.218548</td>\n",
       "      <td>6263.064351</td>\n",
       "      <td>6963.173928</td>\n",
       "      <td>7639.403674</td>\n",
       "      <td>7807.050481</td>\n",
       "      <td>8365.838944</td>\n",
       "      <td>9124.808251</td>\n",
       "      <td>10024.344052</td>\n",
       "      <td>10256.379348</td>\n",
       "      <td>10717.512969</td>\n",
       "      <td>10805.765645</td>\n",
       "      <td>10808.380415</td>\n",
       "      <td>10777.367716</td>\n",
       "      <td>10877.217944</td>\n",
       "      <td>203767.103881</td>\n",
       "    </tr>\n",
       "    <tr>\n",
       "      <th>Russia</th>\n",
       "      <td>1314.168399</td>\n",
       "      <td>1315.623348</td>\n",
       "      <td>1379.089137</td>\n",
       "      <td>1457.188344</td>\n",
       "      <td>1529.017538</td>\n",
       "      <td>1635.475682</td>\n",
       "      <td>1690.020968</td>\n",
       "      <td>1727.377806</td>\n",
       "      <td>1833.384824</td>\n",
       "      <td>1855.228102</td>\n",
       "      <td>1907.136680</td>\n",
       "      <td>1902.319514</td>\n",
       "      <td>1936.975034</td>\n",
       "      <td>1958.102714</td>\n",
       "      <td>1977.151504</td>\n",
       "      <td>2003.871739</td>\n",
       "      <td>2061.403009</td>\n",
       "      <td>2110.351880</td>\n",
       "      <td>2158.361879</td>\n",
       "      <td>2163.772925</td>\n",
       "      <td>2378.920942</td>\n",
       "      <td>2340.541169</td>\n",
       "      <td>2151.792063</td>\n",
       "      <td>1956.917737</td>\n",
       "      <td>1789.132758</td>\n",
       "      <td>1746.157161</td>\n",
       "      <td>1702.533258</td>\n",
       "      <td>1589.117292</td>\n",
       "      <td>1591.590435</td>\n",
       "      <td>1638.225007</td>\n",
       "      <td>1675.397319</td>\n",
       "      <td>1682.594323</td>\n",
       "      <td>1671.120528</td>\n",
       "      <td>1735.972585</td>\n",
       "      <td>1734.065716</td>\n",
       "      <td>1733.949894</td>\n",
       "      <td>1770.334352</td>\n",
       "      <td>1771.873830</td>\n",
       "      <td>1757.251010</td>\n",
       "      <td>1654.271844</td>\n",
       "      <td>1731.455606</td>\n",
       "      <td>1817.878850</td>\n",
       "      <td>1799.085425</td>\n",
       "      <td>1743.390650</td>\n",
       "      <td>1724.704543</td>\n",
       "      <td>1730.126181</td>\n",
       "      <td>1745.536658</td>\n",
       "      <td>1764.865676</td>\n",
       "      <td>86044.823839</td>\n",
       "    </tr>\n",
       "    <tr>\n",
       "      <th>Japan</th>\n",
       "      <td>857.790736</td>\n",
       "      <td>855.638368</td>\n",
       "      <td>901.449068</td>\n",
       "      <td>1015.383241</td>\n",
       "      <td>1013.875765</td>\n",
       "      <td>958.145061</td>\n",
       "      <td>988.541784</td>\n",
       "      <td>1013.468177</td>\n",
       "      <td>1013.478803</td>\n",
       "      <td>1039.189588</td>\n",
       "      <td>1013.129639</td>\n",
       "      <td>990.721228</td>\n",
       "      <td>948.047675</td>\n",
       "      <td>950.001277</td>\n",
       "      <td>1017.960421</td>\n",
       "      <td>991.567524</td>\n",
       "      <td>987.976743</td>\n",
       "      <td>994.331913</td>\n",
       "      <td>1066.556331</td>\n",
       "      <td>1096.635901</td>\n",
       "      <td>1149.399800</td>\n",
       "      <td>1153.385894</td>\n",
       "      <td>1161.200560</td>\n",
       "      <td>1150.128416</td>\n",
       "      <td>1206.425658</td>\n",
       "      <td>1221.107399</td>\n",
       "      <td>1233.407686</td>\n",
       "      <td>1226.565786</td>\n",
       "      <td>1187.836907</td>\n",
       "      <td>1227.724815</td>\n",
       "      <td>1241.516860</td>\n",
       "      <td>1229.089793</td>\n",
       "      <td>1268.365289</td>\n",
       "      <td>1271.971202</td>\n",
       "      <td>1270.203668</td>\n",
       "      <td>1276.862861</td>\n",
       "      <td>1259.770815</td>\n",
       "      <td>1300.173417</td>\n",
       "      <td>1213.596864</td>\n",
       "      <td>1146.257127</td>\n",
       "      <td>1197.379496</td>\n",
       "      <td>1249.883838</td>\n",
       "      <td>1289.286259</td>\n",
       "      <td>1313.474058</td>\n",
       "      <td>1393.625967</td>\n",
       "      <td>1336.499699</td>\n",
       "      <td>1319.801846</td>\n",
       "      <td>1320.776125</td>\n",
       "      <td>54529.607352</td>\n",
       "    </tr>\n",
       "    <tr>\n",
       "      <th>Germany</th>\n",
       "      <td>1082.023653</td>\n",
       "      <td>1076.490600</td>\n",
       "      <td>1103.013119</td>\n",
       "      <td>1152.534454</td>\n",
       "      <td>1122.346500</td>\n",
       "      <td>1062.396363</td>\n",
       "      <td>1122.836852</td>\n",
       "      <td>1103.091070</td>\n",
       "      <td>1141.039931</td>\n",
       "      <td>1190.997031</td>\n",
       "      <td>1137.986738</td>\n",
       "      <td>1102.427695</td>\n",
       "      <td>1055.920028</td>\n",
       "      <td>1071.523522</td>\n",
       "      <td>1087.534492</td>\n",
       "      <td>1090.120084</td>\n",
       "      <td>1083.531123</td>\n",
       "      <td>1074.581491</td>\n",
       "      <td>1068.229912</td>\n",
       "      <td>1054.328045</td>\n",
       "      <td>1018.097096</td>\n",
       "      <td>996.322783</td>\n",
       "      <td>943.137760</td>\n",
       "      <td>934.821138</td>\n",
       "      <td>923.859142</td>\n",
       "      <td>918.735705</td>\n",
       "      <td>945.842306</td>\n",
       "      <td>913.677381</td>\n",
       "      <td>906.532132</td>\n",
       "      <td>873.420986</td>\n",
       "      <td>871.124850</td>\n",
       "      <td>887.090249</td>\n",
       "      <td>871.428318</td>\n",
       "      <td>873.595628</td>\n",
       "      <td>857.737109</td>\n",
       "      <td>837.283835</td>\n",
       "      <td>853.974012</td>\n",
       "      <td>822.473278</td>\n",
       "      <td>829.357321</td>\n",
       "      <td>768.827127</td>\n",
       "      <td>815.945348</td>\n",
       "      <td>790.985538</td>\n",
       "      <td>803.978517</td>\n",
       "      <td>821.623582</td>\n",
       "      <td>784.831077</td>\n",
       "      <td>789.892519</td>\n",
       "      <td>798.582119</td>\n",
       "      <td>796.528910</td>\n",
       "      <td>46232.658466</td>\n",
       "    </tr>\n",
       "  </tbody>\n",
       "</table>\n",
       "</div>"
      ],
      "text/plain": [
       "                      1970         1971         1972         1973  \\\n",
       "United States  4700.442593  4559.409065  4807.030516  4994.593521   \n",
       "China           905.702330   909.490327   970.480168  1010.964814   \n",
       "Russia         1314.168399  1315.623348  1379.089137  1457.188344   \n",
       "Japan           857.790736   855.638368   901.449068  1015.383241   \n",
       "Germany        1082.023653  1076.490600  1103.013119  1152.534454   \n",
       "\n",
       "                      1974         1975         1976         1977  \\\n",
       "United States  4827.419794  4612.546517  4907.271052  5071.365396   \n",
       "China          1029.079341  1179.440223  1226.795283  1379.166366   \n",
       "Russia         1529.017538  1635.475682  1690.020968  1727.377806   \n",
       "Japan          1013.875765   958.145061   988.541784  1013.468177   \n",
       "Germany        1122.346500  1062.396363  1122.836852  1103.091070   \n",
       "\n",
       "                      1978         1979         1980         1981  \\\n",
       "United States  5066.244895  5105.068531  4877.371739  4807.962003   \n",
       "China          1555.391439  1593.197822  1559.202220  1545.757609   \n",
       "Russia         1833.384824  1855.228102  1907.136680  1902.319514   \n",
       "Japan          1013.478803  1039.189588  1013.129639   990.721228   \n",
       "Germany        1141.039931  1190.997031  1137.986738  1102.427695   \n",
       "\n",
       "                      1982         1983         1984         1985  \\\n",
       "United States  4562.166138  4541.549825  4751.807135  4777.184401   \n",
       "China          1616.232974  1701.425517  1855.510863  1870.860230   \n",
       "Russia         1936.975034  1958.102714  1977.151504  2003.871739   \n",
       "Japan           948.047675   950.001277  1017.960421   991.567524   \n",
       "Germany        1055.920028  1071.523522  1087.534492  1090.120084   \n",
       "\n",
       "                      1986         1987         1988         1989  \\\n",
       "United States  4736.598507  4894.815355  5118.583071  5175.797099   \n",
       "China          1976.837700  2115.387714  2275.880128  2354.908651   \n",
       "Russia         2061.403009  2110.351880  2158.361879  2163.772925   \n",
       "Japan           987.976743   994.331913  1066.556331  1096.635901   \n",
       "Germany        1083.531123  1074.581491  1068.229912  1054.328045   \n",
       "\n",
       "                      1990         1991         1992         1993  \\\n",
       "United States  5085.896784  5046.534890  5128.145232  5249.209892   \n",
       "China          2397.048052  2532.281676  2664.818900  2889.903130   \n",
       "Russia         2378.920942  2340.541169  2151.792063  1956.917737   \n",
       "Japan          1149.399800  1153.385894  1161.200560  1150.128416   \n",
       "Germany        1018.097096   996.322783   943.137760   934.821138   \n",
       "\n",
       "                      1994         1995         1996         1997  \\\n",
       "United States  5326.854476  5379.707757  5528.165152  5702.979288   \n",
       "China          3070.949644  3382.894171  3366.804617  3426.096234   \n",
       "Russia         1789.132758  1746.157161  1702.533258  1589.117292   \n",
       "Japan          1206.425658  1221.107399  1233.407686  1226.565786   \n",
       "Germany         923.859142   918.735705   945.842306   913.677381   \n",
       "\n",
       "                      1998         1999         2000         2001  \\\n",
       "United States  5717.638921  5738.467798  5942.427756  5882.474238   \n",
       "China          3504.428799  3435.887590  3671.621881  3845.342160   \n",
       "Russia         1591.590435  1638.225007  1675.397319  1682.594323   \n",
       "Japan          1187.836907  1227.724815  1241.516860  1229.089793   \n",
       "Germany         906.532132   873.420986   871.124850   887.090249   \n",
       "\n",
       "                      2002         2003         2004         2005  \\\n",
       "United States  5803.653423  5878.563276  5964.465752  5971.571218   \n",
       "China          4147.307156  4813.481884  5556.218548  6263.064351   \n",
       "Russia         1671.120528  1735.972585  1734.065716  1733.949894   \n",
       "Japan          1268.365289  1271.971202  1270.203668  1276.862861   \n",
       "Germany         871.428318   873.595628   857.737109   837.283835   \n",
       "\n",
       "                      2006         2007         2008         2009  \\\n",
       "United States  5867.364040  5946.141058  5754.288794  5339.094743   \n",
       "China          6963.173928  7639.403674  7807.050481  8365.838944   \n",
       "Russia         1770.334352  1771.873830  1757.251010  1654.271844   \n",
       "Japan          1259.770815  1300.173417  1213.596864  1146.257127   \n",
       "Germany         853.974012   822.473278   829.357321   768.827127   \n",
       "\n",
       "                      2010          2011          2012          2013  \\\n",
       "United States  5580.707796   5451.511124   5273.584600   5341.065980   \n",
       "China          9124.808251  10024.344052  10256.379348  10717.512969   \n",
       "Russia         1731.455606   1817.878850   1799.085425   1743.390650   \n",
       "Japan          1197.379496   1249.883838   1289.286259   1313.474058   \n",
       "Germany         815.945348    790.985538    803.978517    821.623582   \n",
       "\n",
       "                       2014          2015          2016          2017  \\\n",
       "United States   5413.771542   5247.226361   5146.300675   5107.393212   \n",
       "China          10805.765645  10808.380415  10777.367716  10877.217944   \n",
       "Russia          1724.704543   1730.126181   1745.536658   1764.865676   \n",
       "Japan           1393.625967   1336.499699   1319.801846   1320.776125   \n",
       "Germany          784.831077    789.892519    798.582119    796.528910   \n",
       "\n",
       "                       total  \n",
       "United States  251710.432935  \n",
       "China          203767.103881  \n",
       "Russia          86044.823839  \n",
       "Japan           54529.607352  \n",
       "Germany         46232.658466  "
      ]
     },
     "execution_count": 3,
     "metadata": {},
     "output_type": "execute_result"
    }
   ],
   "source": [
    "import types\n",
    "import pandas as pd\n",
    "from botocore.client import Config\n",
    "import ibm_boto3\n",
    "pd.set_option('display.max_columns', 50)\n",
    "\n",
    "def __iter__(self): return 0\n",
    "\n",
    "# @hidden_cell\n",
    "# The following code accesses a file in your IBM Cloud Object Storage. It includes your credentials.\n",
    "# You might want to remove those credentials before you share the notebook.\n",
    "client_ebd903fa1f234f68a46ff7178f8c1e7e = ibm_boto3.client(service_name='s3',\n",
    "    ibm_api_key_id='zWjcEiJpNhRuIpcTP98_6ePohks2ZmiQpTM5VXqaq6fF',\n",
    "    ibm_auth_endpoint=\"https://iam.ng.bluemix.net/oidc/token\",\n",
    "    config=Config(signature_version='oauth'),\n",
    "    endpoint_url='https://s3-api.us-geo.objectstorage.service.networklayer.com')\n",
    "\n",
    "body = client_ebd903fa1f234f68a46ff7178f8c1e7e.get_object(Bucket='mkzproject-donotdelete-pr-piwghsabuxrpkz',Key='EDGARv5.0_FT2017_fossil_CO2_booklet2018.xls')['Body']\n",
    "# add missing __iter__ method, so pandas accepts body as file-like object\n",
    "if not hasattr(body, \"__iter__\"): body.__iter__ = types.MethodType( __iter__, body )\n",
    "\n",
    "carbon_df = pd.read_excel(body,\n",
    "                          sheet_name='fossil_CO2_totals_by_country',\n",
    "                          skipfooter=3,\n",
    "                          index_col=0)\n",
    "carbon_df.columns = list(map(str, range(1970, 2018)))\n",
    "carbon_df.index.name = None\n",
    "carbon_df['total'] = carbon_df[list(map(str, range(1970, 2018)))].sum(axis=1)\n",
    "carbon_df.sort_values('total', ascending=False, inplace=True)\n",
    "carbon_df.head()"
   ]
  },
  {
   "cell_type": "markdown",
   "metadata": {},
   "source": [
    "### Data visualization"
   ]
  },
  {
   "cell_type": "code",
   "execution_count": 4,
   "metadata": {},
   "outputs": [
    {
     "data": {
      "image/png": "[encoded data removed]",
      "text/plain": [
       "<Figure size 864x576 with 1 Axes>"
      ]
     },
     "metadata": {
      "needs_background": "light"
     },
     "output_type": "display_data"
    }
   ],
   "source": [
    "plt.figure(figsize=(12, 8))\n",
    "top_15 = carbon_df.head(15)['total'].sort_values()\n",
    "plt.barh(top_15.index,top_15, color='steelblue', height=0.85)\n",
    "for i,v in enumerate(top_15):\n",
    "    y = v-18000 if v>200000 else v-15000\n",
    "    plt.text(y, i-0.1, f'{v:,.0f}', color='white')\n",
    "plt.title('Total $CO_2$ emissions from 1970 to 2017')\n",
    "plt.xlabel('Mt $CO_2$\\nfig_1');"
   ]
  },
  {
   "cell_type": "code",
   "execution_count": 5,
   "metadata": {},
   "outputs": [
    {
     "name": "stdout",
     "output_type": "stream",
     "text": [
      "1197816.6630157505\n"
     ]
    },
    {
     "data": {
      "text/plain": [
       "United States                         21.014103\n",
       "China                                 17.011544\n",
       "Russia                                 7.183472\n",
       "Japan                                  4.552417\n",
       "Germany                                3.859744\n",
       "India                                  3.663933\n",
       "United Kingdom                         2.268061\n",
       "Ukraine                                2.077998\n",
       "Canada                                 1.982657\n",
       "International Shipping                 1.822300\n",
       "France and Monaco                      1.650189\n",
       "Italy, San Marino and the Holy See     1.642776\n",
       "Poland                                 1.458499\n",
       "South Korea                            1.392411\n",
       "South Africa                           1.340347\n",
       "Name: total, dtype: float64"
      ]
     },
     "execution_count": 5,
     "metadata": {},
     "output_type": "execute_result"
    }
   ],
   "source": [
    "co2_total = carbon_df.total.sum()\n",
    "print(co2_total)\n",
    "percentage = carbon_df.total/co2_total*100\n",
    "percentage.head(15)"
   ]
  },
  {
   "cell_type": "markdown",
   "metadata": {},
   "source": [
    "### Commenting on bar chart"
   ]
  },
  {
   "cell_type": "markdown",
   "metadata": {},
   "source": [
    "Based on the total $CO_2$ emissions amount **(1,197,817 metric tons)** from **1970 to 2017**, we can see that the **United States and China** are the biggest contributors to climate meltdown **(fig_1)**. **72.9%** of total $CO_2$ are produced by the top fourteen countries and international activity"
   ]
  },
  {
   "cell_type": "code",
   "execution_count": 6,
   "metadata": {},
   "outputs": [
    {
     "data": {
      "text/html": [
       "<div>\n",
       "<style scoped>\n",
       "    .dataframe tbody tr th:only-of-type {\n",
       "        vertical-align: middle;\n",
       "    }\n",
       "\n",
       "    .dataframe tbody tr th {\n",
       "        vertical-align: top;\n",
       "    }\n",
       "\n",
       "    .dataframe thead th {\n",
       "        text-align: right;\n",
       "    }\n",
       "</style>\n",
       "<table border=\"1\" class=\"dataframe\">\n",
       "  <thead>\n",
       "    <tr style=\"text-align: right;\">\n",
       "      <th></th>\n",
       "      <th>India</th>\n",
       "      <th>Germany</th>\n",
       "      <th>Japan</th>\n",
       "      <th>Russia</th>\n",
       "      <th>China</th>\n",
       "      <th>United States</th>\n",
       "    </tr>\n",
       "  </thead>\n",
       "  <tbody>\n",
       "    <tr>\n",
       "      <th>count</th>\n",
       "      <td>48.000000</td>\n",
       "      <td>48.000000</td>\n",
       "      <td>48.000000</td>\n",
       "      <td>48.000000</td>\n",
       "      <td>48.000000</td>\n",
       "      <td>48.000000</td>\n",
       "    </tr>\n",
       "    <tr>\n",
       "      <th>mean</th>\n",
       "      <td>914.316727</td>\n",
       "      <td>963.180385</td>\n",
       "      <td>1136.033486</td>\n",
       "      <td>1792.600497</td>\n",
       "      <td>4245.147998</td>\n",
       "      <td>5243.967353</td>\n",
       "    </tr>\n",
       "    <tr>\n",
       "      <th>std</th>\n",
       "      <td>660.479440</td>\n",
       "      <td>128.461104</td>\n",
       "      <td>142.405095</td>\n",
       "      <td>228.666370</td>\n",
       "      <td>3357.450591</td>\n",
       "      <td>433.294225</td>\n",
       "    </tr>\n",
       "    <tr>\n",
       "      <th>min</th>\n",
       "      <td>233.717573</td>\n",
       "      <td>768.827127</td>\n",
       "      <td>855.638368</td>\n",
       "      <td>1314.168399</td>\n",
       "      <td>905.702330</td>\n",
       "      <td>4541.549825</td>\n",
       "    </tr>\n",
       "    <tr>\n",
       "      <th>25%</th>\n",
       "      <td>349.051277</td>\n",
       "      <td>849.801468</td>\n",
       "      <td>1013.383543</td>\n",
       "      <td>1680.795072</td>\n",
       "      <td>1610.474186</td>\n",
       "      <td>4890.454451</td>\n",
       "    </tr>\n",
       "    <tr>\n",
       "      <th>50%</th>\n",
       "      <td>716.587547</td>\n",
       "      <td>938.979449</td>\n",
       "      <td>1157.293227</td>\n",
       "      <td>1745.846909</td>\n",
       "      <td>2980.426387</td>\n",
       "      <td>5161.048887</td>\n",
       "    </tr>\n",
       "    <tr>\n",
       "      <th>75%</th>\n",
       "      <td>1230.501621</td>\n",
       "      <td>1082.400520</td>\n",
       "      <td>1252.355582</td>\n",
       "      <td>1914.596268</td>\n",
       "      <td>6438.091745</td>\n",
       "      <td>5611.275669</td>\n",
       "    </tr>\n",
       "    <tr>\n",
       "      <th>max</th>\n",
       "      <td>2454.773797</td>\n",
       "      <td>1190.997031</td>\n",
       "      <td>1393.625967</td>\n",
       "      <td>2378.920942</td>\n",
       "      <td>10877.217944</td>\n",
       "      <td>5971.571218</td>\n",
       "    </tr>\n",
       "  </tbody>\n",
       "</table>\n",
       "</div>"
      ],
      "text/plain": [
       "             India      Germany        Japan       Russia         China  \\\n",
       "count    48.000000    48.000000    48.000000    48.000000     48.000000   \n",
       "mean    914.316727   963.180385  1136.033486  1792.600497   4245.147998   \n",
       "std     660.479440   128.461104   142.405095   228.666370   3357.450591   \n",
       "min     233.717573   768.827127   855.638368  1314.168399    905.702330   \n",
       "25%     349.051277   849.801468  1013.383543  1680.795072   1610.474186   \n",
       "50%     716.587547   938.979449  1157.293227  1745.846909   2980.426387   \n",
       "75%    1230.501621  1082.400520  1252.355582  1914.596268   6438.091745   \n",
       "max    2454.773797  1190.997031  1393.625967  2378.920942  10877.217944   \n",
       "\n",
       "       United States  \n",
       "count      48.000000  \n",
       "mean     5243.967353  \n",
       "std       433.294225  \n",
       "min      4541.549825  \n",
       "25%      4890.454451  \n",
       "50%      5161.048887  \n",
       "75%      5611.275669  \n",
       "max      5971.571218  "
      ]
     },
     "execution_count": 6,
     "metadata": {},
     "output_type": "execute_result"
    }
   ],
   "source": [
    "top_6 = carbon_df.head(6).sort_values('total').iloc[:, : -1].T\n",
    "top_6.describe()"
   ]
  },
  {
   "cell_type": "code",
   "execution_count": 7,
   "metadata": {
    "scrolled": false
   },
   "outputs": [
    {
     "data": {
      "image/png": "[encoded data removed]",
      "text/plain": [
       "<Figure size 720x504 with 1 Axes>"
      ]
     },
     "metadata": {
      "needs_background": "light"
     },
     "output_type": "display_data"
    }
   ],
   "source": [
    "top_6.plot.box(vert=False, color='steelblue', figsize=(10,7))\n",
    "plt.title('Box plot of $CO_2$ emissions by top six countries')\n",
    "plt.xlabel('Mt $CO_2$\\nfig_2');"
   ]
  },
  {
   "cell_type": "markdown",
   "metadata": {},
   "source": [
    "### Commenting on box plot"
   ]
  },
  {
   "cell_type": "markdown",
   "metadata": {},
   "source": [
    "When we look at the box plot **(fig_2)**, **China** has the widest range of $CO_2$ emissions from about **1,000(Mt) to 11,000(Mt)**. But on the other, **Germany** has the narrowest range from about **800(Mt) to 1200(Mt)**. The **countries** from the graph keep their $CO_2$ emissions at some amount except **China and India**."
   ]
  },
  {
   "cell_type": "code",
   "execution_count": 8,
   "metadata": {
    "scrolled": false
   },
   "outputs": [
    {
     "data": {
      "text/html": [
       "<div>\n",
       "<style scoped>\n",
       "    .dataframe tbody tr th:only-of-type {\n",
       "        vertical-align: middle;\n",
       "    }\n",
       "\n",
       "    .dataframe tbody tr th {\n",
       "        vertical-align: top;\n",
       "    }\n",
       "\n",
       "    .dataframe thead th {\n",
       "        text-align: right;\n",
       "    }\n",
       "</style>\n",
       "<table border=\"1\" class=\"dataframe\">\n",
       "  <thead>\n",
       "    <tr style=\"text-align: right;\">\n",
       "      <th></th>\n",
       "      <th>[1970, 1975]</th>\n",
       "      <th>[1976, 1980]</th>\n",
       "      <th>[1981, 1985]</th>\n",
       "      <th>[1986, 1990]</th>\n",
       "      <th>[1991, 1995]</th>\n",
       "      <th>[1996, 2000]</th>\n",
       "      <th>[2001, 2005]</th>\n",
       "      <th>[2006, 2010]</th>\n",
       "      <th>[2011, 2015]</th>\n",
       "      <th>[2016, 2017]</th>\n",
       "      <th>different</th>\n",
       "    </tr>\n",
       "  </thead>\n",
       "  <tbody>\n",
       "    <tr>\n",
       "      <th>China</th>\n",
       "      <td>1000.859534</td>\n",
       "      <td>1462.750626</td>\n",
       "      <td>1717.957439</td>\n",
       "      <td>2224.012449</td>\n",
       "      <td>2908.169504</td>\n",
       "      <td>3480.967824</td>\n",
       "      <td>4925.082820</td>\n",
       "      <td>7980.055056</td>\n",
       "      <td>10522.476486</td>\n",
       "      <td>10827.292830</td>\n",
       "      <td>9826.433296</td>\n",
       "    </tr>\n",
       "    <tr>\n",
       "      <th>United States</th>\n",
       "      <td>4750.240335</td>\n",
       "      <td>5005.464323</td>\n",
       "      <td>4688.133900</td>\n",
       "      <td>5002.338163</td>\n",
       "      <td>5226.090449</td>\n",
       "      <td>5725.935783</td>\n",
       "      <td>5900.145581</td>\n",
       "      <td>5697.519286</td>\n",
       "      <td>5345.431922</td>\n",
       "      <td>5126.846944</td>\n",
       "      <td>376.606609</td>\n",
       "    </tr>\n",
       "    <tr>\n",
       "      <th>India</th>\n",
       "      <td>248.864786</td>\n",
       "      <td>291.944998</td>\n",
       "      <td>382.205877</td>\n",
       "      <td>537.894589</td>\n",
       "      <td>708.104511</td>\n",
       "      <td>904.049520</td>\n",
       "      <td>1095.972603</td>\n",
       "      <td>1518.659105</td>\n",
       "      <td>2074.808920</td>\n",
       "      <td>2412.906791</td>\n",
       "      <td>2164.042005</td>\n",
       "    </tr>\n",
       "    <tr>\n",
       "      <th>Russia</th>\n",
       "      <td>1438.427075</td>\n",
       "      <td>1802.629676</td>\n",
       "      <td>1955.684101</td>\n",
       "      <td>2174.562127</td>\n",
       "      <td>1996.908178</td>\n",
       "      <td>1639.372662</td>\n",
       "      <td>1711.540609</td>\n",
       "      <td>1737.037328</td>\n",
       "      <td>1763.037130</td>\n",
       "      <td>1755.201167</td>\n",
       "      <td>316.774092</td>\n",
       "    </tr>\n",
       "    <tr>\n",
       "      <th>Japan</th>\n",
       "      <td>933.713707</td>\n",
       "      <td>1013.561598</td>\n",
       "      <td>979.659625</td>\n",
       "      <td>1058.980138</td>\n",
       "      <td>1178.449585</td>\n",
       "      <td>1223.410411</td>\n",
       "      <td>1263.298563</td>\n",
       "      <td>1223.435544</td>\n",
       "      <td>1316.553964</td>\n",
       "      <td>1320.288986</td>\n",
       "      <td>386.575279</td>\n",
       "    </tr>\n",
       "    <tr>\n",
       "      <th>Germany</th>\n",
       "      <td>1099.800781</td>\n",
       "      <td>1139.190324</td>\n",
       "      <td>1081.505164</td>\n",
       "      <td>1059.753533</td>\n",
       "      <td>943.375306</td>\n",
       "      <td>902.119531</td>\n",
       "      <td>865.427028</td>\n",
       "      <td>818.115417</td>\n",
       "      <td>798.262246</td>\n",
       "      <td>797.555514</td>\n",
       "      <td>-302.245267</td>\n",
       "    </tr>\n",
       "  </tbody>\n",
       "</table>\n",
       "</div>"
      ],
      "text/plain": [
       "               [1970, 1975]  [1976, 1980]  [1981, 1985]  [1986, 1990]  \\\n",
       "China           1000.859534   1462.750626   1717.957439   2224.012449   \n",
       "United States   4750.240335   5005.464323   4688.133900   5002.338163   \n",
       "India            248.864786    291.944998    382.205877    537.894589   \n",
       "Russia          1438.427075   1802.629676   1955.684101   2174.562127   \n",
       "Japan            933.713707   1013.561598    979.659625   1058.980138   \n",
       "Germany         1099.800781   1139.190324   1081.505164   1059.753533   \n",
       "\n",
       "               [1991, 1995]  [1996, 2000]  [2001, 2005]  [2006, 2010]  \\\n",
       "China           2908.169504   3480.967824   4925.082820   7980.055056   \n",
       "United States   5226.090449   5725.935783   5900.145581   5697.519286   \n",
       "India            708.104511    904.049520   1095.972603   1518.659105   \n",
       "Russia          1996.908178   1639.372662   1711.540609   1737.037328   \n",
       "Japan           1178.449585   1223.410411   1263.298563   1223.435544   \n",
       "Germany          943.375306    902.119531    865.427028    818.115417   \n",
       "\n",
       "               [2011, 2015]  [2016, 2017]    different  \n",
       "China          10522.476486  10827.292830  9826.433296  \n",
       "United States   5345.431922   5126.846944   376.606609  \n",
       "India           2074.808920   2412.906791  2164.042005  \n",
       "Russia          1763.037130   1755.201167   316.774092  \n",
       "Japan           1316.553964   1320.288986   386.575279  \n",
       "Germany          798.262246    797.555514  -302.245267  "
      ]
     },
     "execution_count": 8,
     "metadata": {},
     "output_type": "execute_result"
    }
   ],
   "source": [
    "def fifth_grouping(x):\n",
    "    if x<'1976':\n",
    "        return '[1970, 1975]'\n",
    "    if x<'1981':\n",
    "        return '[1976, 1980]'\n",
    "    if x<'1986':\n",
    "        return '[1981, 1985]'\n",
    "    if x<'1991':\n",
    "        return '[1986, 1990]'\n",
    "    if x<'1996':\n",
    "        return '[1991, 1995]'\n",
    "    if x<'2001':\n",
    "        return '[1996, 2000]'\n",
    "    if x<'2006':\n",
    "        return '[2001, 2005]'\n",
    "    if x<'2011':\n",
    "        return '[2006, 2010]'\n",
    "    if x<'2016':\n",
    "        return '[2011, 2015]'\n",
    "    if x<'2021':\n",
    "        return '[2016, 2017]'\n",
    "\n",
    "fifth_df = carbon_df.groupby(fifth_grouping, axis=1, sort=False).apply(np.mean, axis=1)\n",
    "fifth_df.sort_values('[2016, 2017]', inplace=True, ascending=False)\n",
    "fifth_df['different'] = fifth_df['[2016, 2017]'] - fifth_df['[1970, 1975]']\n",
    "fifth_df.head(6)"
   ]
  },
  {
   "cell_type": "code",
   "execution_count": 9,
   "metadata": {
    "scrolled": false
   },
   "outputs": [
    {
     "data": {
      "image/png": "[encoded data removed]",
      "text/plain": [
       "<Figure size 864x576 with 1 Axes>"
      ]
     },
     "metadata": {
      "needs_background": "light"
     },
     "output_type": "display_data"
    }
   ],
   "source": [
    "plt.figure(figsize=(12,8))\n",
    "temp1_df = fifth_df.iloc[:15, :-1][:6].T\n",
    "plt.semilogy(temp1_df, 'o-')\n",
    "plt.legend(temp1_df.columns,framealpha=1, loc=1, bbox_to_anchor=(1.25,1))\n",
    "plt.title('Fifth yearly $CO_2$ emissions by top six countries')\n",
    "plt.ylabel('$CO_2$ Mt')\n",
    "plt.xlabel('fig_3');"
   ]
  },
  {
   "cell_type": "markdown",
   "metadata": {},
   "source": [
    "### Commenting on line plot"
   ]
  },
  {
   "cell_type": "markdown",
   "metadata": {},
   "source": [
    "In the plot **(fig_3)**, I used the log scale values for the y-axis for the aesthetic of the chart as **China** $CO_2$ emissions reached to about $11,000$ that made most of the data points are clustered at the bottom of the graph. The **United States and Russia** kept their $CO_2$ emissions at about their average amount **5243.97(Mt) and 1792.60(Mt)** respectively. We can see that **China and India** try to put $CO_2$ into the environment. As y-values are the log scale, the trend lines of **China and India** look similar. The slopes of **China and India** are **1091.83(Mt) and 240.45(Mt)** respectively. Interestingly, **Germany** is the only country that has downward trending. In 2017, **Germany** reduced **170(Mt)** from its average $CO_2$ emission amount(**963Mt**)."
   ]
  },
  {
   "cell_type": "code",
   "execution_count": 10,
   "metadata": {
    "scrolled": true
   },
   "outputs": [
    {
     "data": {
      "text/plain": [
       "count    48.000000\n",
       "mean      8.616745\n",
       "std       5.793665\n",
       "min       4.185103\n",
       "25%       5.086381\n",
       "50%       6.436120\n",
       "75%       9.353426\n",
       "max      28.461878\n",
       "Name: Myanmar, dtype: float64"
      ]
     },
     "execution_count": 10,
     "metadata": {},
     "output_type": "execute_result"
    }
   ],
   "source": [
    "mm_df = carbon_df.loc['Myanmar'][:-1]\n",
    "mm_df.describe()"
   ]
  },
  {
   "cell_type": "code",
   "execution_count": 11,
   "metadata": {
    "scrolled": true
   },
   "outputs": [
    {
     "data": {
      "image/png": "[encoded data removed]",
      "text/plain": [
       "<Figure size 432x288 with 1 Axes>"
      ]
     },
     "metadata": {
      "needs_background": "light"
     },
     "output_type": "display_data"
    }
   ],
   "source": [
    "count, bin_edges = np.histogram(mm_df)\n",
    "tb = np.linspace(mm_df.min(), mm_df.max(), 11)\n",
    "mm_df.plot.hist(xticks=tb, color='steelblue').set(xlabel='$CO_2$ Mt\\nfig_4', \n",
    "                                                  title='Histrogram of $CO_2$ emissions of Myanmar');"
   ]
  },
  {
   "cell_type": "code",
   "execution_count": 12,
   "metadata": {},
   "outputs": [
    {
     "data": {
      "image/png": "[encoded data removed]",
      "text/plain": [
       "<Figure size 432x288 with 1 Axes>"
      ]
     },
     "metadata": {
      "needs_background": "light"
     },
     "output_type": "display_data"
    }
   ],
   "source": [
    "sns.violinplot(mm_df, color='steelblue').set(title='$CO_2$ emissions of Myanmar',\n",
    "                                                      xlabel='Frequency\\nfig_5');"
   ]
  },
  {
   "cell_type": "code",
   "execution_count": 13,
   "metadata": {},
   "outputs": [
    {
     "data": {
      "text/plain": [
       "(28.4618779110754, 28.465679358853677, 413.5602413120399)"
      ]
     },
     "execution_count": 13,
     "metadata": {},
     "output_type": "execute_result"
    }
   ],
   "source": [
    "mm = carbon_df.loc['Myanmar', '2017']\n",
    "cc= carbon_df.loc['China', '2017']\n",
    "usa = carbon_df.loc['United States', 'total']\n",
    "mm, cc*0.002617, usa*0.001643"
   ]
  },
  {
   "cell_type": "markdown",
   "metadata": {},
   "source": [
    "### Conclusion"
   ]
  },
  {
   "cell_type": "markdown",
   "metadata": {},
   "source": [
    "The total amount of $CO_2$ emissions of Our country **(Myanmar)** from **1970 to 2017** is **413.6(Mt)**. It is an infinitesimal amount compare to developed countries like the **United States**. **0.1643%** of total CO_2 emissions amount of **United States** is the same as our country's. In **2017**, **0.2617%** of the $CO_2$ emissions amount of **China** is the same as the amount of our country. \n",
    "**My conclusion is that if we reduce 100% of our CO_2 emissions amount, it doesn't impact on the climate.**"
   ]
  },
  {
   "cell_type": "markdown",
   "metadata": {},
   "source": [
    "\n",
    "\n",
    "**Thanks for spending time on this notebook. I hope I'll give some sense to you.**"
   ]
  }
 ],
 "metadata": {
  "kernelspec": {
   "display_name": "Python 3.6",
   "language": "python",
   "name": "python3"
  },
  "language_info": {
   "codemirror_mode": {
    "name": "ipython",
    "version": 3
   },
   "file_extension": ".py",
   "mimetype": "text/x-python",
   "name": "python",
   "nbconvert_exporter": "python",
   "pygments_lexer": "ipython3",
   "version": "3.6.8"
  }
 },
 "nbformat": 4,
 "nbformat_minor": 2
}
