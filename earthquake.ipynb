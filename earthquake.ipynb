{
 "cells": [
  {
   "cell_type": "code",
   "execution_count": 1,
   "metadata": {},
   "outputs": [],
   "source": [
    "%store -r __importing_Lib"
   ]
  },
  {
   "cell_type": "code",
   "execution_count": 2,
   "metadata": {},
   "outputs": [
    {
     "name": "stdout",
     "output_type": "stream",
     "text": [
      "matplotlib inline backend and ggplot style are used.\n",
      "Mplotlib version : 3.1.1\n",
      "Numpy version\t : 1.17.3\n",
      "Pandas version\t : 0.25.3\n",
      "Seaborn version\t : 0.9.0\n",
      "Folium version\t : 0.10.0\n",
      "Other imported is: Waffle      \n",
      "\t\t : datetime      \n",
      "\t\t : base64      \n",
      "\t\t : Json\n"
     ]
    }
   ],
   "source": [
    "__importing_Lib"
   ]
  },
  {
   "cell_type": "code",
   "execution_count": 3,
   "metadata": {},
   "outputs": [],
   "source": [
    "import cartopy.crs as ccrs\n",
    "import cartopy.feature as cfeature\n",
    "from folium import plugins\n",
    "from sklearn.tree import DecisionTreeRegressor\n",
    "from sklearn.linear_model import LinearRegression\n",
    "from sklearn.model_selection import train_test_split\n",
    "from sklearn.metrics import accuracy_score\n",
    "import joblib\n",
    "from sklearn import tree\n",
    "import graphviz\n",
    "import os\n",
    "from ipywidgets import interact\n",
    "os.environ[\"PATH\"] += os.pathsep + 'C:/Program Files/Graphviz2.38/bin/'\n",
    "pd.set_option('display.max_columns', 25, 'display.max_rows', 100)"
   ]
  },
  {
   "cell_type": "markdown",
   "metadata": {},
   "source": [
    "```python\n",
    "eq_df = pd.read_csv('query.csv')```"
   ]
  },
  {
   "cell_type": "markdown",
   "metadata": {
    "scrolled": false
   },
   "source": [
    "```python\n",
    "boolean = eq_df.place.str.split().str[-1]\n",
    "boolean = boolean.map(lambda x: x in ['Burma', 'Myanmar'])\n",
    "eq_df = eq_df[boolean]\n",
    "eq_df['local_time'] = eq_df.time.map(lambda x: pd.Timestamp(x, tz='Asia/Yangon'))\n",
    "eq_df.sort_values(['latitude'], ascending=False, inplace=True)\n",
    "eq_df.index = range(len(eq_df))\n",
    "eq_df.head()```"
   ]
  },
  {
   "cell_type": "markdown",
   "metadata": {},
   "source": [
    "```python\n",
    "X = eq_df.longitude\n",
    "Y = eq_df.latitude\n",
    "xmin, xmax = X.min()-1, X.max()+2\n",
    "ymin, ymax = Y.min()-2.8, Y.max()+2\n",
    "xmin, xmax, ymin, ymax```"
   ]
  },
  {
   "cell_type": "markdown",
   "metadata": {},
   "source": [
    "```python\n",
    "groups = eq_df.groupby(['mag'], as_index=False, sort=False)\n",
    "groups```"
   ]
  },
  {
   "cell_type": "markdown",
   "metadata": {},
   "source": [
    "```python\n",
    "proj = ccrs.Mercator()\n",
    "plt.figure(figsize=(18,9))\n",
    "ax = plt.axes(projection=proj)\n",
    "ax.set_extent((xmin, xmax, ymin, ymax))\n",
    "ax.add_feature(cfeature.LAND)\n",
    "ax.add_feature(cfeature.OCEAN)\n",
    "ax.add_feature(cfeature.COASTLINE)\n",
    "ax.add_feature(cfeature.BORDERS, linestyle=':')\n",
    "for lab, grp in groups:\n",
    "    x, y = grp.longitude, grp.latitude\n",
    "    ax.plot(x, y, '.', transform=ccrs.Geodetic())\n",
    "plt.legend(loc=1);```"
   ]
  },
  {
   "cell_type": "markdown",
   "metadata": {},
   "source": [
    "```python\n",
    "kachin = [358, 369, 317, 316, 329, 312, 342, 328, 322, 319, 303, 302, 308, 321, 336]\n",
    "sagaing = ([100, 144, 154, 167, 191, 193, 157, 138, 131, 133,\n",
    "           196, 158, 151, 142, 149, 178, 183, 135, 130, \n",
    "           129, 141, 146, 148, 169, 172, 188, 195, 119, 120, 121, 122, 126] + [3, 12, 28, 85, 92, 94, 98] + \n",
    "          [207, 250, 216, 219, 218, 227, 230, 204, 203, 211, 205, 212, 217,\n",
    "           206, 214, 222, 223, 225, 228, 229, 232, 233, 235, 242,\n",
    "           245, 244, 239, 240, 243, 256, 251, 253, 254, 252, 259, 264, 280, \n",
    "           297, 282, 273, 269, 272, 281, 276, 285, 291, 283, 262, 279, 298, \n",
    "           296, 287, 284, 271, 268, 260, 258, 274, 288]+\n",
    "          [idx for idx in range(300,400) if idx not in kachin])\n",
    "\n",
    "loc_dict = {}\n",
    "for i in range(400):\n",
    "    if i not in sagaing:\n",
    "        loc_dict[i] = 'Kachin'\n",
    "    else:\n",
    "        loc_dict[i] = 'Sagaing'\n",
    "loc_dict ```"
   ]
  },
  {
   "cell_type": "markdown",
   "metadata": {},
   "source": [
    "```python\n",
    "kachin = [406]\n",
    "shan = [435, 532, 620, 758, 837, 852, 853, 858, 874, 876, 877, 891, 899, 907, 913, 929, 972, 988, 985,\n",
    "        971, 998, 997, 986, 970, 914, 956, 961, 944, 938, 937, 918, 950, 975, 964, 952, 946, 945, 930, 920,\n",
    "        919, 924, 927, 926, 935, 943, 965, 991, 928, 995, 1095, 1069, 1042, 1002, 1057, 1052, 1062, 1047, 1040,\n",
    "        1019, 1070, 1089, 1026, 1027, 1075, 1031, 1018, 1011, 1035, 1102,1109,1110, 1111, 1116, 1120, 1123, 1124,\n",
    "        1125, 1127, 1128, 1132, 1136, 1140, 1141, 1148, 1149, 1153, 1155, 1159, 1160, 1170, 1173, 1174, 1177, 1178,\n",
    "        1180, 1183, 1186, 1188, 1189, 1192, 1193, 1198, 1215, 1202, 1207, 1204]\n",
    "chin = [493, 483, 478, 460, 459, 432, 521, 542, 548, 585, 677, 781, 794, 776, 773, 746, 815, 821, 826, 829, 839,\n",
    "        840, 851, 859, 864, 917, 923, 931, 940, 949, 955, 966, 969, 977, 983, 984, 987, 990, 1008, 1024, 1021, 1012,\n",
    "        1001, 1014, 1013, 1005, 1000, 1028, 1038, 1037, 1041, 1049, 1051, 1054, 1058, 1060, 1053, 1055, 1059, 1061,\n",
    "        1065, 1066, 1063, 1080, 1090, 1092, 1094, 1088, 1086, 1084, 1098, 1097, 1101, 1106, 1112]\n",
    "near_chin = [429, 442, 444]\n",
    "mandalay = [577, 611, 635, 638, 647, 646, 697, 688, 676, 645, 715, 718, 719, 725, 731, 745, 750, 759, 772, 792, 796,\n",
    "            798, 822, 951, 980, 1045, 1046, 1085, 1093, 1096, 1079, 1100, 1131, 1164, 1172]\n",
    "magway = [778, 795, 809, 812, 831, 833, 835, 846, 861, 863, 865, 866, 870, 882, 892, 895, 896, 898, 903, 905, 908, 909,\n",
    "          910, 911, 922, 932, 933, 939, 959, 962, 963, 967, 999, 994, 992, 981, 976, 993, 996, 989, 978, 979, 953, 948,\n",
    "          960, 968, 973, 954, 957, 974, 982, 1003, 1010, 1015, 1016, 1023, 1020, 1004, 1022, 1017, 1009, 1006, 1007,\n",
    "          1025, 1032, 1039, 1050, 1044, 1043, 1033, 1036, 1048, 1029, 1030, 1034, 1056, 1073, 1077, 1081, 1072, 1067,\n",
    "          1068, 1074, 1083, 1078, 1071, 1064, 1076, 1087, 1091, 1099, 1104, 1113, 1119, 1121, 1142, 1146, 1154, 1161, \n",
    "          1165, 1156, 1152, 1144, 1139, 1181, 1176, 1169, 1162, 1151, 1133, 1122, 1117, 1108, 1107, 1105, 1114, 1126,\n",
    "          1137, 1138, 1130, 1135, 1143, 1150, 1157, 1166, 1168, 1175, 1187, 1196, 1197, 1195, 1190, 1184, 1199, 1200,\n",
    "          1206, 1208, 1209, 1210, 1211, 1214, 1216, 1217, 1219, 1220, 1221, 1222, 1225, 1226, 1227, 1228, 1230, 1231, \n",
    "          1232, 1235, 1237, 1238, 1239, 1240, 1242, 1243, 1244, 1246, 1248, 1249, 1250, 1251, 1252, 1253, 1254, 1255,\n",
    "          1256, 1257, 1260, 1261, 1265, 1266, 1267, 1270, 1271, 1272, 1274, 1275, 1276, 1277, 1279, 1280, 1281, 1282,\n",
    "          1284, 1285, 1286, 1288, 1289, 1290, 1291, 1292, 1293, 1294, 1296, 1297, 1298, 1299, 1303, 1305, 1316, 1313, \n",
    "          1308, 1306, 1301, 1302, 1304, 1307]\n",
    "rakhine = [1082, 1103, 1118, 1129, 1145, 1158, 1134, 1147, 1171, 1182, 1194, 1163, 1185, 1212, 1224, 1245, 1262, 1269, \n",
    "           1321, 1322, 1345, 1348, 1356, 1377, 1384, 1389, 1394, 1396, 1398, 1405, 1412]\n",
    "near_rakhine = [1115]\n",
    "rk_coast = [1167, 1205, 1247, 1264, 1273, 1309, 1335, 1336, 1354, 1378, 1390, 1400, 1401, 1408, 1409, 1411, 1416, 1423, \n",
    "            1427, 1432, 1433, 1434, 1441, 1443, 1455, 1465, 1466, 1473, 1483]\n",
    "Nay_Pyi_Taw = [1179, 1191, 1201, 1203, 1213, 1218, 1223, 1233, 1229, 1236, 1241, 1234, 1258, 1259, 1263, 1268]\n",
    "Bago = [1283, 1287, 1295, 1311, 1312, 1314, 1315, 1317, 1319, 1320, 1323, 1324, 1325, 1326, 1327, 1328, 1329, 1330,\n",
    "        1331, 1332, 1333, 1334, 1338, 1339, 1340, 1342, 1343, 1344, 1346, 1347, 1349, 1350, 1351, 1352, 1353, 1355, \n",
    "        1357, 1359, 1360, 1361, 1362, 1363, 1364, 1365, 1366, 1368, 1369, 1370, 1371, 1372, 1373, 1374, 1375, 1379,\n",
    "        1381, 1382, 1383, 1385, 1386, 1387, 1388, 1391, 1392, 1393, 1395, 1397, 1404, 1407, 1406, 1410, 1413, 1414, \n",
    "        1415, 1419, 1422, 1437]\n",
    "Kayah = [1278, 1300, 1310]\n",
    "bog = [1337, 1341, 1399]\n",
    "Ayeyarwady = [1376, 1358, 1367, 1380, 1402, 1403, 1421, 1424, 1425, 1426, 1436, 1438, 1444, 1445, 1446, 1448, 1449, \n",
    "              1450, 1451, 1452, 1454, 1456, 1461, 1462, 1469, 1471, 1472, 1474, 1475, 1476, 1477, 1479, 1480, 1484,\n",
    "              1486, 1489, 1496]\n",
    "outofmyan = [1318, 1417]\n",
    "Kayin = [1418]\n",
    "Yangon = [1420, 1428, 1429, 1430, 1431, 1435, 1439, 1440, 1442, 1447, 1453, 1457, 1458, 1460, 1463, 1464, 1468, 1467,\n",
    "          1459]\n",
    "mmcoast = [1470, 1478, 1485, 1493, 1498, 1495, 1497, 1494, 1491, 1492, 1490, 1488, 1482, 1481, 1487, 1499, 1500, 1501, \n",
    "           1502, 1503, 1504, 1505, 1506, 1507, 1508, 1509, 1510, 1511, 1512, 1513, 1514, 1515, 1516, 1517, 1518, 1519,\n",
    "           1520, 1521, 1522, 1523, 1524, 1525, 1526, 1527, 1528, 1529, 1530, 1531, 1532, 1533, 1534, 1535, 1536, 1537,\n",
    "           1538, 1539, 1540, 1541, 1542, 1543, 1544, 1545, 1546, 1547, 1548, 1549, 1550, 1551, 1552, 1553, 1554]\n",
    "tot = (kachin + shan + chin + near_chin + mandalay + magway + rakhine + near_rakhine + rk_coast + Nay_Pyi_Taw +\n",
    "       Bago + Kayah + bog + Ayeyarwady + outofmyan + Kayin + Yangon + mmcoast)\n",
    "\n",
    "for i in range(400, len(eq_df)):\n",
    "    if i not in tot:\n",
    "        loc_dict[i] = 'Sagaing'\n",
    "    elif i in kachin:\n",
    "        loc_dict[i] = 'Kachin'\n",
    "    elif i in chin:\n",
    "        loc_dict[i] = 'Chin'\n",
    "    elif i in shan:\n",
    "        loc_dict[i] = 'Shan'\n",
    "    elif i in near_chin:\n",
    "        loc_dict[i] = 'near_chin'\n",
    "    elif i in mandalay:\n",
    "        loc_dict[i] = 'Mandalay'\n",
    "    elif i in magway:\n",
    "        loc_dict[i] = 'Magway'\n",
    "    elif i in rakhine:\n",
    "        loc_dict[i] = 'Rakhine'\n",
    "    elif i in near_rakhine:\n",
    "        loc_dict[i] = 'near_rakhine'\n",
    "    elif i in rk_coast:\n",
    "        loc_dict[i] = 'Coast of rakhine'\n",
    "    elif i in Nay_Pyi_Taw:\n",
    "        loc_dict[i] = 'Nay Pyi Taw'\n",
    "    elif i in Bago:\n",
    "        loc_dict[i] = 'Bago'\n",
    "    elif i in Kayah:\n",
    "        loc_dict[i] = 'Kayah'\n",
    "\n",
    "    elif i in bog:\n",
    "        loc_dict[i] = 'Bay of Bengal'\n",
    "    elif i in Ayeyarwady:\n",
    "        loc_dict[i] = 'Ayeyarwady'\n",
    "    elif i in outofmyan:\n",
    "        loc_dict[i] = 'outofmyan'  \n",
    "    elif i in Kayin:\n",
    "        loc_dict[i] = 'Kayin'\n",
    "    elif i in Yangon:\n",
    "        loc_dict[i] = 'Yangon'\n",
    "    elif i in mmcoast:\n",
    "        loc_dict[i] = 'mmcoast'\n",
    "\n",
    "print(len(loc_dict))\n",
    "loc_dict```\n"
   ]
  },
  {
   "cell_type": "markdown",
   "metadata": {},
   "source": [
    "```python\n",
    "mmeq_df = pd.DataFrame(columns=['local_time', 'date', 'latitude', 'longitude', 'depth', 'mag', 'magType', 'location'])\n",
    "for row in eq_df.itertuples():\n",
    "    idx,datetime = row.Index, row.local_time\n",
    "    mmeq_df.loc[idx] = (datetime, datetime.date(),\n",
    "                        row.latitude, row.longitude,\n",
    "                        row.depth, row.mag, row.magType, loc_dict[idx])\n",
    "mmeq_df.head()```"
   ]
  },
  {
   "cell_type": "code",
   "execution_count": 4,
   "metadata": {},
   "outputs": [
    {
     "data": {
      "text/plain": [
       "'[6, 7)'"
      ]
     },
     "execution_count": 4,
     "metadata": {},
     "output_type": "execute_result"
    }
   ],
   "source": [
    "def mag_group(x):\n",
    "    grp = 0\n",
    "    while (x>grp or x==grp):\n",
    "        grp+=1\n",
    "    return f'[{grp-1}, {grp})'\n",
    "mag_group(6.9)"
   ]
  },
  {
   "cell_type": "code",
   "execution_count": 5,
   "metadata": {
    "scrolled": true
   },
   "outputs": [
    {
     "data": {
      "text/html": [
       "<div>\n",
       "<style scoped>\n",
       "    .dataframe tbody tr th:only-of-type {\n",
       "        vertical-align: middle;\n",
       "    }\n",
       "\n",
       "    .dataframe tbody tr th {\n",
       "        vertical-align: top;\n",
       "    }\n",
       "\n",
       "    .dataframe thead th {\n",
       "        text-align: right;\n",
       "    }\n",
       "</style>\n",
       "<table border=\"1\" class=\"dataframe\">\n",
       "  <thead>\n",
       "    <tr style=\"text-align: right;\">\n",
       "      <th></th>\n",
       "      <th>local_time</th>\n",
       "      <th>date</th>\n",
       "      <th>latitude</th>\n",
       "      <th>longitude</th>\n",
       "      <th>depth</th>\n",
       "      <th>mag</th>\n",
       "      <th>magType</th>\n",
       "      <th>location</th>\n",
       "      <th>year</th>\n",
       "      <th>month</th>\n",
       "      <th>hour</th>\n",
       "      <th>minute</th>\n",
       "      <th>maggrp</th>\n",
       "    </tr>\n",
       "  </thead>\n",
       "  <tbody>\n",
       "    <tr>\n",
       "      <th>0</th>\n",
       "      <td>1988-12-28 06:59:36.620000+06:30</td>\n",
       "      <td>1988-12-28</td>\n",
       "      <td>26.989</td>\n",
       "      <td>96.955</td>\n",
       "      <td>21.9</td>\n",
       "      <td>4.6</td>\n",
       "      <td>mb</td>\n",
       "      <td>Kachin</td>\n",
       "      <td>1988</td>\n",
       "      <td>12</td>\n",
       "      <td>6</td>\n",
       "      <td>59</td>\n",
       "      <td>[4, 5)</td>\n",
       "    </tr>\n",
       "    <tr>\n",
       "      <th>1</th>\n",
       "      <td>2006-06-11 06:55:18.970000+06:30</td>\n",
       "      <td>2006-06-11</td>\n",
       "      <td>26.952</td>\n",
       "      <td>97.411</td>\n",
       "      <td>35.0</td>\n",
       "      <td>3.8</td>\n",
       "      <td>mb</td>\n",
       "      <td>Kachin</td>\n",
       "      <td>2006</td>\n",
       "      <td>6</td>\n",
       "      <td>6</td>\n",
       "      <td>55</td>\n",
       "      <td>[3, 4)</td>\n",
       "    </tr>\n",
       "    <tr>\n",
       "      <th>2</th>\n",
       "      <td>2005-07-08 00:11:10.890000+06:30</td>\n",
       "      <td>2005-07-08</td>\n",
       "      <td>26.938</td>\n",
       "      <td>97.254</td>\n",
       "      <td>36.0</td>\n",
       "      <td>4.4</td>\n",
       "      <td>mb</td>\n",
       "      <td>Kachin</td>\n",
       "      <td>2005</td>\n",
       "      <td>7</td>\n",
       "      <td>0</td>\n",
       "      <td>11</td>\n",
       "      <td>[4, 5)</td>\n",
       "    </tr>\n",
       "    <tr>\n",
       "      <th>3</th>\n",
       "      <td>1985-06-08 00:53:58.590000+06:30</td>\n",
       "      <td>1985-06-08</td>\n",
       "      <td>26.931</td>\n",
       "      <td>96.195</td>\n",
       "      <td>33.0</td>\n",
       "      <td>4.9</td>\n",
       "      <td>mb</td>\n",
       "      <td>Sagaing</td>\n",
       "      <td>1985</td>\n",
       "      <td>6</td>\n",
       "      <td>0</td>\n",
       "      <td>53</td>\n",
       "      <td>[4, 5)</td>\n",
       "    </tr>\n",
       "    <tr>\n",
       "      <th>4</th>\n",
       "      <td>2011-04-09 10:03:01.320000+06:30</td>\n",
       "      <td>2011-04-09</td>\n",
       "      <td>26.923</td>\n",
       "      <td>97.200</td>\n",
       "      <td>29.2</td>\n",
       "      <td>4.4</td>\n",
       "      <td>mb</td>\n",
       "      <td>Kachin</td>\n",
       "      <td>2011</td>\n",
       "      <td>4</td>\n",
       "      <td>10</td>\n",
       "      <td>3</td>\n",
       "      <td>[4, 5)</td>\n",
       "    </tr>\n",
       "  </tbody>\n",
       "</table>\n",
       "</div>"
      ],
      "text/plain": [
       "                        local_time       date  latitude  longitude  depth  \\\n",
       "0 1988-12-28 06:59:36.620000+06:30 1988-12-28    26.989     96.955   21.9   \n",
       "1 2006-06-11 06:55:18.970000+06:30 2006-06-11    26.952     97.411   35.0   \n",
       "2 2005-07-08 00:11:10.890000+06:30 2005-07-08    26.938     97.254   36.0   \n",
       "3 1985-06-08 00:53:58.590000+06:30 1985-06-08    26.931     96.195   33.0   \n",
       "4 2011-04-09 10:03:01.320000+06:30 2011-04-09    26.923     97.200   29.2   \n",
       "\n",
       "   mag magType location  year  month  hour  minute  maggrp  \n",
       "0  4.6      mb   Kachin  1988     12     6      59  [4, 5)  \n",
       "1  3.8      mb   Kachin  2006      6     6      55  [3, 4)  \n",
       "2  4.4      mb   Kachin  2005      7     0      11  [4, 5)  \n",
       "3  4.9      mb  Sagaing  1985      6     0      53  [4, 5)  \n",
       "4  4.4      mb   Kachin  2011      4    10       3  [4, 5)  "
      ]
     },
     "execution_count": 5,
     "metadata": {},
     "output_type": "execute_result"
    }
   ],
   "source": [
    "mmeq_df = pd.read_csv('myanmar_earth_data1.csv', index_col=0, parse_dates=['local_time', 'date'])\n",
    "drop_idx = [429, 442, 444, 1115, 1318, 1417]\n",
    "name_dict = {'Coast of rakhine': 'Coast of Myanmar', 'mmcoast': 'Coast of Myanmar'}\n",
    "mmeq_df.drop(drop_idx, inplace=True)\n",
    "mmeq_df.location.replace(name_dict, inplace=True)\n",
    "mmeq_df['year'] = mmeq_df.local_time.dt.year\n",
    "mmeq_df['month'] = mmeq_df.local_time.dt.month\n",
    "mmeq_df.index = range(len(mmeq_df))\n",
    "mmeq_df['hour'] = mmeq_df.local_time.dt.hour\n",
    "mmeq_df['minute'] = mmeq_df.local_time.dt.minute\n",
    "mmeq_df['maggrp'] = mmeq_df.mag.map(lambda x: mag_group(x))\n",
    "mmeq_df.head()"
   ]
  },
  {
   "cell_type": "code",
   "execution_count": 6,
   "metadata": {},
   "outputs": [],
   "source": [
    "mmap = folium.Map(location=[19.7253, 96.1194], zoom_start=5)\n",
    "cluster = plugins.MarkerCluster(name='Marker').add_to(mmap)\n",
    "folium.LayerControl().add_to(mmap)\n",
    "for df in mmeq_df.itertuples():\n",
    "    html = f'''<div style=\"font-size:9pt; background-color:steelblue;\n",
    "                           overflow:auto; color:white; padding:5px 2px;\n",
    "                           line-height:1.35;\">\n",
    "               Date<span style=\"padding-left:32px;\">:</span> {df.date:%Y-%m-%d}<br/>\n",
    "               Magnitude : {df.mag} ({df.magType})</div>''' \n",
    "    iframe = folium.IFrame(html, width=155, height=58)\n",
    "    popup = folium.Popup(iframe)\n",
    "    folium.Marker([df.latitude,df.longitude],name='marker',\n",
    "                   popup=popup).add_to(cluster)\n",
    "mmap.save('final_mm.html')"
   ]
  },
  {
   "cell_type": "code",
   "execution_count": 7,
   "metadata": {},
   "outputs": [
    {
     "data": {
      "image/png": "[encoded data removed]",
      "text/plain": [
       "<Figure size 1296x504 with 1 Axes>"
      ]
     },
     "metadata": {
      "needs_background": "light"
     },
     "output_type": "display_data"
    }
   ],
   "source": [
    "plt.figure(figsize=(18, 7))\n",
    "sns.boxplot('year', 'mag', data=mmeq_df);"
   ]
  },
  {
   "cell_type": "code",
   "execution_count": 26,
   "metadata": {},
   "outputs": [],
   "source": [
    "count_df = mmeq_df.groupby('location').size()\n",
    "mmap = folium.Map(location=[19.9940,96.0864], zoom_start=5)\n",
    "folium.Choropleth(\n",
    "    geo_data='Applied Data Science Specialization(IBM)/Data Visualization with Python/myanmar.json',\n",
    "    data=count_df,\n",
    "    key_on='feature.properties.name',\n",
    "    line_color='black',\n",
    "    fill_color='YlOrRd',\n",
    "    nan_fill_color='white',\n",
    "    fill_opacity=1, \n",
    "    line_opacity=0.5,\n",
    "    legend_name ='Magnitude',\n",
    "    name=\"earthquake of Myanmar\",\n",
    "    overlay=True,\n",
    "    highlight=True).add_to(mmap)\n",
    "folium.LayerControl().add_to(mmap)\n",
    "mmap.save('eq_Choropleth_mm.html')\n",
    "#mmap"
   ]
  },
  {
   "cell_type": "code",
   "execution_count": 9,
   "metadata": {},
   "outputs": [
    {
     "data": {
      "text/html": [
       "<div>\n",
       "<style scoped>\n",
       "    .dataframe tbody tr th:only-of-type {\n",
       "        vertical-align: middle;\n",
       "    }\n",
       "\n",
       "    .dataframe tbody tr th {\n",
       "        vertical-align: top;\n",
       "    }\n",
       "\n",
       "    .dataframe thead th {\n",
       "        text-align: right;\n",
       "    }\n",
       "</style>\n",
       "<table border=\"1\" class=\"dataframe\">\n",
       "  <thead>\n",
       "    <tr style=\"text-align: right;\">\n",
       "      <th></th>\n",
       "      <th>location</th>\n",
       "      <th>frequency</th>\n",
       "    </tr>\n",
       "  </thead>\n",
       "  <tbody>\n",
       "    <tr>\n",
       "      <th>0</th>\n",
       "      <td>Sagaing</td>\n",
       "      <td>616</td>\n",
       "    </tr>\n",
       "    <tr>\n",
       "      <th>1</th>\n",
       "      <td>Kachin</td>\n",
       "      <td>218</td>\n",
       "    </tr>\n",
       "    <tr>\n",
       "      <th>2</th>\n",
       "      <td>Magway</td>\n",
       "      <td>213</td>\n",
       "    </tr>\n",
       "    <tr>\n",
       "      <th>3</th>\n",
       "      <td>Shan</td>\n",
       "      <td>106</td>\n",
       "    </tr>\n",
       "    <tr>\n",
       "      <th>4</th>\n",
       "      <td>Coast of Myanmar</td>\n",
       "      <td>100</td>\n",
       "    </tr>\n",
       "    <tr>\n",
       "      <th>5</th>\n",
       "      <td>Bago</td>\n",
       "      <td>76</td>\n",
       "    </tr>\n",
       "    <tr>\n",
       "      <th>6</th>\n",
       "      <td>Chin</td>\n",
       "      <td>75</td>\n",
       "    </tr>\n",
       "    <tr>\n",
       "      <th>7</th>\n",
       "      <td>Ayeyarwady</td>\n",
       "      <td>37</td>\n",
       "    </tr>\n",
       "    <tr>\n",
       "      <th>8</th>\n",
       "      <td>Mandalay</td>\n",
       "      <td>35</td>\n",
       "    </tr>\n",
       "    <tr>\n",
       "      <th>9</th>\n",
       "      <td>Rakhine</td>\n",
       "      <td>31</td>\n",
       "    </tr>\n",
       "    <tr>\n",
       "      <th>10</th>\n",
       "      <td>Yangon</td>\n",
       "      <td>19</td>\n",
       "    </tr>\n",
       "    <tr>\n",
       "      <th>11</th>\n",
       "      <td>Nay Pyi Taw</td>\n",
       "      <td>16</td>\n",
       "    </tr>\n",
       "    <tr>\n",
       "      <th>12</th>\n",
       "      <td>Kayah</td>\n",
       "      <td>3</td>\n",
       "    </tr>\n",
       "    <tr>\n",
       "      <th>13</th>\n",
       "      <td>Bay of Bengal</td>\n",
       "      <td>3</td>\n",
       "    </tr>\n",
       "    <tr>\n",
       "      <th>14</th>\n",
       "      <td>Kayin</td>\n",
       "      <td>1</td>\n",
       "    </tr>\n",
       "  </tbody>\n",
       "</table>\n",
       "</div>"
      ],
      "text/plain": [
       "            location  frequency\n",
       "0            Sagaing        616\n",
       "1             Kachin        218\n",
       "2             Magway        213\n",
       "3               Shan        106\n",
       "4   Coast of Myanmar        100\n",
       "5               Bago         76\n",
       "6               Chin         75\n",
       "7         Ayeyarwady         37\n",
       "8           Mandalay         35\n",
       "9            Rakhine         31\n",
       "10            Yangon         19\n",
       "11       Nay Pyi Taw         16\n",
       "12             Kayah          3\n",
       "13     Bay of Bengal          3\n",
       "14             Kayin          1"
      ]
     },
     "execution_count": 9,
     "metadata": {},
     "output_type": "execute_result"
    }
   ],
   "source": [
    "count_df.sort_values(ascending=False).reset_index().rename(columns={0:'frequency'})"
   ]
  },
  {
   "cell_type": "code",
   "execution_count": 10,
   "metadata": {},
   "outputs": [
    {
     "data": {
      "text/html": [
       "<div>\n",
       "<style scoped>\n",
       "    .dataframe tbody tr th:only-of-type {\n",
       "        vertical-align: middle;\n",
       "    }\n",
       "\n",
       "    .dataframe tbody tr th {\n",
       "        vertical-align: top;\n",
       "    }\n",
       "\n",
       "    .dataframe thead th {\n",
       "        text-align: right;\n",
       "    }\n",
       "</style>\n",
       "<table border=\"1\" class=\"dataframe\">\n",
       "  <thead>\n",
       "    <tr style=\"text-align: right;\">\n",
       "      <th></th>\n",
       "      <th>hour</th>\n",
       "      <th>maggrp</th>\n",
       "      <th>0</th>\n",
       "    </tr>\n",
       "  </thead>\n",
       "  <tbody>\n",
       "    <tr>\n",
       "      <th>70</th>\n",
       "      <td>18</td>\n",
       "      <td>[5, 6)</td>\n",
       "      <td>14</td>\n",
       "    </tr>\n",
       "    <tr>\n",
       "      <th>21</th>\n",
       "      <td>5</td>\n",
       "      <td>[5, 6)</td>\n",
       "      <td>12</td>\n",
       "    </tr>\n",
       "    <tr>\n",
       "      <th>25</th>\n",
       "      <td>6</td>\n",
       "      <td>[5, 6)</td>\n",
       "      <td>12</td>\n",
       "    </tr>\n",
       "    <tr>\n",
       "      <th>10</th>\n",
       "      <td>2</td>\n",
       "      <td>[5, 6)</td>\n",
       "      <td>11</td>\n",
       "    </tr>\n",
       "    <tr>\n",
       "      <th>59</th>\n",
       "      <td>15</td>\n",
       "      <td>[5, 6)</td>\n",
       "      <td>11</td>\n",
       "    </tr>\n",
       "    <tr>\n",
       "      <th>37</th>\n",
       "      <td>9</td>\n",
       "      <td>[5, 6)</td>\n",
       "      <td>9</td>\n",
       "    </tr>\n",
       "    <tr>\n",
       "      <th>63</th>\n",
       "      <td>16</td>\n",
       "      <td>[5, 6)</td>\n",
       "      <td>9</td>\n",
       "    </tr>\n",
       "    <tr>\n",
       "      <th>2</th>\n",
       "      <td>0</td>\n",
       "      <td>[5, 6)</td>\n",
       "      <td>8</td>\n",
       "    </tr>\n",
       "    <tr>\n",
       "      <th>13</th>\n",
       "      <td>3</td>\n",
       "      <td>[5, 6)</td>\n",
       "      <td>8</td>\n",
       "    </tr>\n",
       "    <tr>\n",
       "      <th>17</th>\n",
       "      <td>4</td>\n",
       "      <td>[5, 6)</td>\n",
       "      <td>8</td>\n",
       "    </tr>\n",
       "    <tr>\n",
       "      <th>6</th>\n",
       "      <td>1</td>\n",
       "      <td>[5, 6)</td>\n",
       "      <td>8</td>\n",
       "    </tr>\n",
       "    <tr>\n",
       "      <th>55</th>\n",
       "      <td>14</td>\n",
       "      <td>[5, 6)</td>\n",
       "      <td>7</td>\n",
       "    </tr>\n",
       "    <tr>\n",
       "      <th>74</th>\n",
       "      <td>19</td>\n",
       "      <td>[5, 6)</td>\n",
       "      <td>7</td>\n",
       "    </tr>\n",
       "    <tr>\n",
       "      <th>49</th>\n",
       "      <td>12</td>\n",
       "      <td>[5, 6)</td>\n",
       "      <td>7</td>\n",
       "    </tr>\n",
       "    <tr>\n",
       "      <th>52</th>\n",
       "      <td>13</td>\n",
       "      <td>[5, 6)</td>\n",
       "      <td>7</td>\n",
       "    </tr>\n",
       "    <tr>\n",
       "      <th>33</th>\n",
       "      <td>8</td>\n",
       "      <td>[5, 6)</td>\n",
       "      <td>7</td>\n",
       "    </tr>\n",
       "    <tr>\n",
       "      <th>28</th>\n",
       "      <td>7</td>\n",
       "      <td>[5, 6)</td>\n",
       "      <td>7</td>\n",
       "    </tr>\n",
       "    <tr>\n",
       "      <th>45</th>\n",
       "      <td>11</td>\n",
       "      <td>[5, 6)</td>\n",
       "      <td>6</td>\n",
       "    </tr>\n",
       "    <tr>\n",
       "      <th>77</th>\n",
       "      <td>20</td>\n",
       "      <td>[5, 6)</td>\n",
       "      <td>6</td>\n",
       "    </tr>\n",
       "    <tr>\n",
       "      <th>81</th>\n",
       "      <td>21</td>\n",
       "      <td>[5, 6)</td>\n",
       "      <td>6</td>\n",
       "    </tr>\n",
       "    <tr>\n",
       "      <th>85</th>\n",
       "      <td>22</td>\n",
       "      <td>[5, 6)</td>\n",
       "      <td>6</td>\n",
       "    </tr>\n",
       "    <tr>\n",
       "      <th>41</th>\n",
       "      <td>10</td>\n",
       "      <td>[5, 6)</td>\n",
       "      <td>5</td>\n",
       "    </tr>\n",
       "    <tr>\n",
       "      <th>89</th>\n",
       "      <td>23</td>\n",
       "      <td>[5, 6)</td>\n",
       "      <td>5</td>\n",
       "    </tr>\n",
       "    <tr>\n",
       "      <th>66</th>\n",
       "      <td>17</td>\n",
       "      <td>[5, 6)</td>\n",
       "      <td>4</td>\n",
       "    </tr>\n",
       "  </tbody>\n",
       "</table>\n",
       "</div>"
      ],
      "text/plain": [
       "    hour  maggrp   0\n",
       "70    18  [5, 6)  14\n",
       "21     5  [5, 6)  12\n",
       "25     6  [5, 6)  12\n",
       "10     2  [5, 6)  11\n",
       "59    15  [5, 6)  11\n",
       "37     9  [5, 6)   9\n",
       "63    16  [5, 6)   9\n",
       "2      0  [5, 6)   8\n",
       "13     3  [5, 6)   8\n",
       "17     4  [5, 6)   8\n",
       "6      1  [5, 6)   8\n",
       "55    14  [5, 6)   7\n",
       "74    19  [5, 6)   7\n",
       "49    12  [5, 6)   7\n",
       "52    13  [5, 6)   7\n",
       "33     8  [5, 6)   7\n",
       "28     7  [5, 6)   7\n",
       "45    11  [5, 6)   6\n",
       "77    20  [5, 6)   6\n",
       "81    21  [5, 6)   6\n",
       "85    22  [5, 6)   6\n",
       "41    10  [5, 6)   5\n",
       "89    23  [5, 6)   5\n",
       "66    17  [5, 6)   4"
      ]
     },
     "execution_count": 10,
     "metadata": {},
     "output_type": "execute_result"
    }
   ],
   "source": [
    "hours_df = mmeq_df.groupby(['hour', 'maggrp']).size().reset_index()\n",
    "hours_df[hours_df.maggrp=='[5, 6)'].sort_values(0, ascending=False)"
   ]
  },
  {
   "cell_type": "code",
   "execution_count": 11,
   "metadata": {},
   "outputs": [
    {
     "data": {
      "image/png": "[encoded data removed]",
      "text/plain": [
       "<Figure size 1080x432 with 1 Axes>"
      ]
     },
     "metadata": {
      "needs_background": "light"
     },
     "output_type": "display_data"
    }
   ],
   "source": [
    "plt.figure(figsize=(15, 6))\n",
    "year_df = mmeq_df.groupby('year').size().reset_index()\n",
    "year_df.columns = 'year', 'frequency'\n",
    "ax = plt.bar(year_df.year, year_df.frequency, color='steelblue')\n",
    "plt.xlim([1970, 2020]);"
   ]
  },
  {
   "cell_type": "code",
   "execution_count": 12,
   "metadata": {},
   "outputs": [
    {
     "data": {
      "application/vnd.jupyter.widget-view+json": {
       "model_id": "59ad003d7f9d4d539c8da7154ce4d2b1",
       "version_major": 2,
       "version_minor": 0
      },
      "text/plain": [
       "interactive(children=(Dropdown(description='variable', options=('month', 'year', 'hour', 'minute'), value='mon…"
      ]
     },
     "metadata": {},
     "output_type": "display_data"
    }
   ],
   "source": [
    "@interact(variable=['month', 'year', 'hour', 'minute'])\n",
    "def barplot(variable):\n",
    "    plt.figure(figsize=(14,7))\n",
    "    order = ['[2, 3)', '[3, 4)', '[4, 5)', '[5, 6)', '[6, 7)', '[7, 8)']\n",
    "    months = ['January', 'February', 'March', 'April', 'May', 'June', 'July',\n",
    "              'August', 'September','October', 'November', 'December']\n",
    "    ax = sns.countplot(variable, hue='maggrp', hue_order=order, data=mmeq_df)\n",
    "    if variable == 'year':\n",
    "        for label in ax.get_xticklabels():\n",
    "            label.set_rotation(90)\n",
    "    if variable == 'month':\n",
    "        ax.set_xticklabels(months)  \n",
    "    plt.legend(loc=1, bbox_to_anchor=(1.12, 1.015),\n",
    "               title='Magnitude', title_fontsize='13',\n",
    "               labelspacing=0.9, borderpad=0.95);"
   ]
  },
  {
   "cell_type": "code",
   "execution_count": 13,
   "metadata": {
    "scrolled": false
   },
   "outputs": [
    {
     "data": {
      "image/png": "[encoded data removed]",
      "text/plain": [
       "<Figure size 1008x504 with 1 Axes>"
      ]
     },
     "metadata": {
      "needs_background": "light"
     },
     "output_type": "display_data"
    }
   ],
   "source": [
    "plt.figure(figsize=(14,7))\n",
    "order = ['[2, 3)', '[3, 4)', '[4, 5)', '[5, 6)', '[6, 7)', '[7, 8)']\n",
    "sns.countplot('hour', hue='maggrp', hue_order=order, data=mmeq_df)\n",
    "plt.legend(loc=1, bbox_to_anchor=(1.12, 1.015),\n",
    "           title='Magnitude', title_fontsize='13',\n",
    "           labelspacing=0.9, borderpad=0.95);"
   ]
  },
  {
   "cell_type": "code",
   "execution_count": 14,
   "metadata": {},
   "outputs": [
    {
     "data": {
      "image/png": "[encoded data removed]",
      "text/plain": [
       "<Figure size 576x432 with 1 Axes>"
      ]
     },
     "metadata": {
      "needs_background": "light"
     },
     "output_type": "display_data"
    }
   ],
   "source": [
    "plt.figure(figsize=(8, 6))\n",
    "mag = mmeq_df.groupby('maggrp').size().sort_values()\n",
    "mag.plot.barh(color='steelblue')\n",
    "plt.semilogx()\n",
    "for y,x in enumerate(mag):\n",
    "    xl = x*0.8 if x < 3 else x*0.75 if x < 100 else x*0.65 if x < 1200 else x*0.55\n",
    "    plt.text(xl, y-0.05, f'{x:,}', color='white');"
   ]
  },
  {
   "cell_type": "code",
   "execution_count": 15,
   "metadata": {
    "scrolled": false
   },
   "outputs": [
    {
     "data": {
      "text/html": [
       "<div>\n",
       "<style scoped>\n",
       "    .dataframe tbody tr th:only-of-type {\n",
       "        vertical-align: middle;\n",
       "    }\n",
       "\n",
       "    .dataframe tbody tr th {\n",
       "        vertical-align: top;\n",
       "    }\n",
       "\n",
       "    .dataframe thead th {\n",
       "        text-align: right;\n",
       "    }\n",
       "</style>\n",
       "<table border=\"1\" class=\"dataframe\">\n",
       "  <thead>\n",
       "    <tr style=\"text-align: right;\">\n",
       "      <th></th>\n",
       "      <th>local_time</th>\n",
       "      <th>date</th>\n",
       "      <th>latitude</th>\n",
       "      <th>longitude</th>\n",
       "      <th>depth</th>\n",
       "      <th>mag</th>\n",
       "      <th>magType</th>\n",
       "      <th>location</th>\n",
       "      <th>year</th>\n",
       "      <th>month</th>\n",
       "      <th>hour</th>\n",
       "      <th>minute</th>\n",
       "      <th>maggrp</th>\n",
       "    </tr>\n",
       "  </thead>\n",
       "  <tbody>\n",
       "    <tr>\n",
       "      <th>1472</th>\n",
       "      <td>2014-08-04 15:41:50.500000+06:30</td>\n",
       "      <td>2014-08-04</td>\n",
       "      <td>16.1393</td>\n",
       "      <td>96.0109</td>\n",
       "      <td>10.0</td>\n",
       "      <td>2.9</td>\n",
       "      <td>ml</td>\n",
       "      <td>Coast of Myanmar</td>\n",
       "      <td>2014</td>\n",
       "      <td>8</td>\n",
       "      <td>15</td>\n",
       "      <td>41</td>\n",
       "      <td>[2, 3)</td>\n",
       "    </tr>\n",
       "    <tr>\n",
       "      <th>512</th>\n",
       "      <td>1991-01-05 21:27:11.590000+06:30</td>\n",
       "      <td>1991-01-05</td>\n",
       "      <td>23.6130</td>\n",
       "      <td>95.9010</td>\n",
       "      <td>19.7</td>\n",
       "      <td>7.0</td>\n",
       "      <td>mw</td>\n",
       "      <td>Sagaing</td>\n",
       "      <td>1991</td>\n",
       "      <td>1</td>\n",
       "      <td>21</td>\n",
       "      <td>27</td>\n",
       "      <td>[7, 8)</td>\n",
       "    </tr>\n",
       "    <tr>\n",
       "      <th>242</th>\n",
       "      <td>1988-08-06 07:06:24.650000+06:30</td>\n",
       "      <td>1988-08-06</td>\n",
       "      <td>25.1490</td>\n",
       "      <td>95.1270</td>\n",
       "      <td>90.5</td>\n",
       "      <td>7.3</td>\n",
       "      <td>mw</td>\n",
       "      <td>Sagaing</td>\n",
       "      <td>1988</td>\n",
       "      <td>8</td>\n",
       "      <td>7</td>\n",
       "      <td>6</td>\n",
       "      <td>[7, 8)</td>\n",
       "    </tr>\n",
       "  </tbody>\n",
       "</table>\n",
       "</div>"
      ],
      "text/plain": [
       "                           local_time       date  latitude  longitude  depth  \\\n",
       "1472 2014-08-04 15:41:50.500000+06:30 2014-08-04   16.1393    96.0109   10.0   \n",
       "512  1991-01-05 21:27:11.590000+06:30 1991-01-05   23.6130    95.9010   19.7   \n",
       "242  1988-08-06 07:06:24.650000+06:30 1988-08-06   25.1490    95.1270   90.5   \n",
       "\n",
       "      mag magType          location  year  month  hour  minute  maggrp  \n",
       "1472  2.9      ml  Coast of Myanmar  2014      8    15      41  [2, 3)  \n",
       "512   7.0      mw           Sagaing  1991      1    21      27  [7, 8)  \n",
       "242   7.3      mw           Sagaing  1988      8     7       6  [7, 8)  "
      ]
     },
     "execution_count": 15,
     "metadata": {},
     "output_type": "execute_result"
    }
   ],
   "source": [
    "mmeq_df[(mmeq_df.maggrp=='[7, 8)') | (mmeq_df.maggrp=='[2, 3)')].sort_values('mag')"
   ]
  },
  {
   "cell_type": "code",
   "execution_count": 16,
   "metadata": {},
   "outputs": [
    {
     "data": {
      "image/png": "[encoded data removed]",
      "text/plain": [
       "<Figure size 864x504 with 1 Axes>"
      ]
     },
     "metadata": {
      "needs_background": "light"
     },
     "output_type": "display_data"
    }
   ],
   "source": [
    "plt.figure(figsize=(12, 7))\n",
    "ax = sns.scatterplot('hour', 'mag',\n",
    "                     hue='location',\n",
    "                     data=mmeq_df,\n",
    "                     edgecolor=None)\n",
    "h,l = ax.get_legend_handles_labels()\n",
    "ax.legend(h[1:], l[1:], loc=1, \n",
    "          bbox_to_anchor=(1.2, 1.015), \n",
    "          title='Location',\n",
    "          title_fontsize='13',\n",
    "          labelspacing=0.9);"
   ]
  },
  {
   "cell_type": "code",
   "execution_count": 17,
   "metadata": {},
   "outputs": [
    {
     "data": {
      "image/png": "[encoded data removed]",
      "text/plain": [
       "<Figure size 1008x720 with 4 Axes>"
      ]
     },
     "metadata": {
      "needs_background": "light"
     },
     "output_type": "display_data"
    }
   ],
   "source": [
    "fig, ((ax1, ax2) , (ax3, ax4)) = plt.subplots(2, 2, sharey=True, figsize=(14, 10))\n",
    "grouping = mmeq_df.groupby(['location', 'maggrp'], as_index=False).size().reset_index()\n",
    "grouping.columns = 'location', 'maggrp', 'frequency'\n",
    "maggrps =['[3, 4)', '[4, 5)', '[5, 6)', '[6, 7)']\n",
    "axs = ax1, ax2, ax3, ax4\n",
    "for maggrp, ax in zip(maggrps, axs):\n",
    "    grp_ff = grouping[grouping.maggrp==maggrp]\n",
    "    ax.bar(grp_ff.location, grp_ff.frequency, label=maggrp, color='steelblue')\n",
    "    ax.set_yscale('log')\n",
    "    ax.legend(loc=2)\n",
    "    for lab in ax.get_xticklabels():\n",
    "        lab.set_rotation(90)\n",
    "plt.subplots_adjust(top=0.86, hspace=0.5)\n",
    "fig.text(.5, 0.9, '\\nEarthquake magnitude from 3 to 7 of Myanmar',\n",
    "         fontdict={'size':'x-large', 'weight':'semibold', 'ha':'center'});"
   ]
  },
  {
   "cell_type": "code",
   "execution_count": 18,
   "metadata": {
    "scrolled": false
   },
   "outputs": [
    {
     "data": {
      "text/html": [
       "<div>\n",
       "<style scoped>\n",
       "    .dataframe tbody tr th:only-of-type {\n",
       "        vertical-align: middle;\n",
       "    }\n",
       "\n",
       "    .dataframe tbody tr th {\n",
       "        vertical-align: top;\n",
       "    }\n",
       "\n",
       "    .dataframe thead th {\n",
       "        text-align: right;\n",
       "    }\n",
       "</style>\n",
       "<table border=\"1\" class=\"dataframe\">\n",
       "  <thead>\n",
       "    <tr style=\"text-align: right;\">\n",
       "      <th></th>\n",
       "      <th>month</th>\n",
       "      <th>hour</th>\n",
       "      <th>maggrp</th>\n",
       "      <th>frequency</th>\n",
       "    </tr>\n",
       "  </thead>\n",
       "  <tbody>\n",
       "    <tr>\n",
       "      <th>84</th>\n",
       "      <td>2</td>\n",
       "      <td>23</td>\n",
       "      <td>2</td>\n",
       "      <td>7</td>\n",
       "    </tr>\n",
       "    <tr>\n",
       "      <th>91</th>\n",
       "      <td>3</td>\n",
       "      <td>3</td>\n",
       "      <td>2</td>\n",
       "      <td>7</td>\n",
       "    </tr>\n",
       "    <tr>\n",
       "      <th>127</th>\n",
       "      <td>3</td>\n",
       "      <td>21</td>\n",
       "      <td>2</td>\n",
       "      <td>7</td>\n",
       "    </tr>\n",
       "    <tr>\n",
       "      <th>129</th>\n",
       "      <td>3</td>\n",
       "      <td>22</td>\n",
       "      <td>2</td>\n",
       "      <td>7</td>\n",
       "    </tr>\n",
       "    <tr>\n",
       "      <th>140</th>\n",
       "      <td>4</td>\n",
       "      <td>4</td>\n",
       "      <td>2</td>\n",
       "      <td>7</td>\n",
       "    </tr>\n",
       "    <tr>\n",
       "      <th>151</th>\n",
       "      <td>4</td>\n",
       "      <td>10</td>\n",
       "      <td>2</td>\n",
       "      <td>7</td>\n",
       "    </tr>\n",
       "    <tr>\n",
       "      <th>160</th>\n",
       "      <td>4</td>\n",
       "      <td>14</td>\n",
       "      <td>2</td>\n",
       "      <td>7</td>\n",
       "    </tr>\n",
       "    <tr>\n",
       "      <th>202</th>\n",
       "      <td>5</td>\n",
       "      <td>11</td>\n",
       "      <td>2</td>\n",
       "      <td>7</td>\n",
       "    </tr>\n",
       "    <tr>\n",
       "      <th>215</th>\n",
       "      <td>5</td>\n",
       "      <td>20</td>\n",
       "      <td>2</td>\n",
       "      <td>7</td>\n",
       "    </tr>\n",
       "    <tr>\n",
       "      <th>223</th>\n",
       "      <td>6</td>\n",
       "      <td>0</td>\n",
       "      <td>2</td>\n",
       "      <td>7</td>\n",
       "    </tr>\n",
       "    <tr>\n",
       "      <th>242</th>\n",
       "      <td>6</td>\n",
       "      <td>10</td>\n",
       "      <td>2</td>\n",
       "      <td>7</td>\n",
       "    </tr>\n",
       "    <tr>\n",
       "      <th>252</th>\n",
       "      <td>6</td>\n",
       "      <td>17</td>\n",
       "      <td>2</td>\n",
       "      <td>7</td>\n",
       "    </tr>\n",
       "    <tr>\n",
       "      <th>287</th>\n",
       "      <td>7</td>\n",
       "      <td>13</td>\n",
       "      <td>2</td>\n",
       "      <td>7</td>\n",
       "    </tr>\n",
       "    <tr>\n",
       "      <th>308</th>\n",
       "      <td>8</td>\n",
       "      <td>0</td>\n",
       "      <td>2</td>\n",
       "      <td>7</td>\n",
       "    </tr>\n",
       "    <tr>\n",
       "      <th>335</th>\n",
       "      <td>8</td>\n",
       "      <td>12</td>\n",
       "      <td>2</td>\n",
       "      <td>7</td>\n",
       "    </tr>\n",
       "    <tr>\n",
       "      <th>347</th>\n",
       "      <td>8</td>\n",
       "      <td>19</td>\n",
       "      <td>2</td>\n",
       "      <td>7</td>\n",
       "    </tr>\n",
       "    <tr>\n",
       "      <th>357</th>\n",
       "      <td>9</td>\n",
       "      <td>0</td>\n",
       "      <td>2</td>\n",
       "      <td>7</td>\n",
       "    </tr>\n",
       "    <tr>\n",
       "      <th>359</th>\n",
       "      <td>9</td>\n",
       "      <td>1</td>\n",
       "      <td>2</td>\n",
       "      <td>7</td>\n",
       "    </tr>\n",
       "    <tr>\n",
       "      <th>399</th>\n",
       "      <td>10</td>\n",
       "      <td>0</td>\n",
       "      <td>2</td>\n",
       "      <td>7</td>\n",
       "    </tr>\n",
       "    <tr>\n",
       "      <th>432</th>\n",
       "      <td>10</td>\n",
       "      <td>21</td>\n",
       "      <td>2</td>\n",
       "      <td>7</td>\n",
       "    </tr>\n",
       "    <tr>\n",
       "      <th>436</th>\n",
       "      <td>10</td>\n",
       "      <td>23</td>\n",
       "      <td>2</td>\n",
       "      <td>7</td>\n",
       "    </tr>\n",
       "    <tr>\n",
       "      <th>468</th>\n",
       "      <td>11</td>\n",
       "      <td>17</td>\n",
       "      <td>2</td>\n",
       "      <td>7</td>\n",
       "    </tr>\n",
       "    <tr>\n",
       "      <th>482</th>\n",
       "      <td>12</td>\n",
       "      <td>3</td>\n",
       "      <td>2</td>\n",
       "      <td>7</td>\n",
       "    </tr>\n",
       "  </tbody>\n",
       "</table>\n",
       "</div>"
      ],
      "text/plain": [
       "     month  hour  maggrp  frequency\n",
       "84       2    23       2          7\n",
       "91       3     3       2          7\n",
       "127      3    21       2          7\n",
       "129      3    22       2          7\n",
       "140      4     4       2          7\n",
       "151      4    10       2          7\n",
       "160      4    14       2          7\n",
       "202      5    11       2          7\n",
       "215      5    20       2          7\n",
       "223      6     0       2          7\n",
       "242      6    10       2          7\n",
       "252      6    17       2          7\n",
       "287      7    13       2          7\n",
       "308      8     0       2          7\n",
       "335      8    12       2          7\n",
       "347      8    19       2          7\n",
       "357      9     0       2          7\n",
       "359      9     1       2          7\n",
       "399     10     0       2          7\n",
       "432     10    21       2          7\n",
       "436     10    23       2          7\n",
       "468     11    17       2          7\n",
       "482     12     3       2          7"
      ]
     },
     "execution_count": 18,
     "metadata": {},
     "output_type": "execute_result"
    }
   ],
   "source": [
    "mag_to_num_dict = {'[2, 3)':0, '[3, 4)':1, '[4, 5)':2, '[5, 6)':3, '[6, 7)':4, '[7, 8)':5}\n",
    "num_to_mag_dict = {0:'[2, 3)', 1:'[3, 4)', 2:'[4, 5)', 3:'[5, 6)', 4:'[6, 7)', 5:'[7, 8)'}\n",
    "loc_to_num_dict = {'Ayeyarwady':0,'Bago':1, 'Chin':2, 'Kachin':3, 'Kayah':4, 'Kayin':5, 'Magway':6, 'Mandalay':7,\n",
    "                   'Mon':8, 'Nay Pyi Taw':9, 'Rakhine':10, 'Sagaing':11, 'Shan':12, 'Tanintharyi':13, 'Yangon':14,\n",
    "                   'Coast of Myanmar':15, 'Bay of Bengal':16}\n",
    "num_to_loc_dict = {0:'Ayeyarwady',1:'Bago', 2:'Chin', 3:'Kachin', 4:'Kayah', 5:'Kayin', 6:'Magway', 7:'Mandalay',\n",
    "                   8:'Mon', 9:'Nay Pyi Taw', 10:'Rakhine', 11:'Sagaing', 12:'Shan', 13:'Tanintharyi', 14:'Yangon',\n",
    "                   15:'Coast of Myanmar', 16:'Bay of Bengal'}\n",
    "ml_df = mmeq_df.groupby(['month', 'hour', 'maggrp']).size().reset_index() # 'year',  'location',,  'mag'\n",
    "ml_df.rename(columns={0:'frequency'}, inplace=True)\n",
    "ml_df = ml_df.replace(loc_to_num_dict).replace(mag_to_num_dict) #[ 1,  3,  6,  4,  2,  8,  5, 10,  7,  9, 13, 12]\n",
    "ml_df[ml_df.frequency==7]"
   ]
  },
  {
   "cell_type": "code",
   "execution_count": 19,
   "metadata": {},
   "outputs": [
    {
     "name": "stdout",
     "output_type": "stream",
     "text": [
      "0.3619047619047619\n"
     ]
    }
   ],
   "source": [
    "X = ml_df.drop(columns='frequency')\n",
    "y = ml_df['frequency']\n",
    "X_train, X_test, y_train, y_test = train_test_split(X, y, test_size=0.2)\n",
    "model = DecisionTreeRegressor()\n",
    "model.fit(X_train, y_train)\n",
    "print(accuracy_score(y_test, model.predict(X_test)))\n",
    "#result = model.predict(X_test)\n",
    "#sum(y_test == result.round(1))/sum(y_test)"
   ]
  },
  {
   "cell_type": "code",
   "execution_count": 20,
   "metadata": {},
   "outputs": [
    {
     "data": {
      "text/plain": [
       "array([7.])"
      ]
     },
     "execution_count": 20,
     "metadata": {},
     "output_type": "execute_result"
    }
   ],
   "source": [
    "model.predict([[8, 1, 2]])"
   ]
  },
  {
   "cell_type": "code",
   "execution_count": 21,
   "metadata": {},
   "outputs": [
    {
     "data": {
      "text/plain": [
       "0.3619047619047619"
      ]
     },
     "execution_count": 21,
     "metadata": {},
     "output_type": "execute_result"
    }
   ],
   "source": [
    "sum(model.predict(X_test) == y_test.values)/len(X_test)"
   ]
  },
  {
   "cell_type": "code",
   "execution_count": 22,
   "metadata": {},
   "outputs": [
    {
     "data": {
      "text/html": [
       "<div>\n",
       "<style scoped>\n",
       "    .dataframe tbody tr th:only-of-type {\n",
       "        vertical-align: middle;\n",
       "    }\n",
       "\n",
       "    .dataframe tbody tr th {\n",
       "        vertical-align: top;\n",
       "    }\n",
       "\n",
       "    .dataframe thead th {\n",
       "        text-align: right;\n",
       "    }\n",
       "</style>\n",
       "<table border=\"1\" class=\"dataframe\">\n",
       "  <thead>\n",
       "    <tr style=\"text-align: right;\">\n",
       "      <th></th>\n",
       "      <th>location</th>\n",
       "      <th>maggrp</th>\n",
       "      <th>frequency</th>\n",
       "    </tr>\n",
       "  </thead>\n",
       "  <tbody>\n",
       "    <tr>\n",
       "      <th>42</th>\n",
       "      <td>Yangon</td>\n",
       "      <td>[3, 4)</td>\n",
       "      <td>3</td>\n",
       "    </tr>\n",
       "    <tr>\n",
       "      <th>43</th>\n",
       "      <td>Yangon</td>\n",
       "      <td>[4, 5)</td>\n",
       "      <td>13</td>\n",
       "    </tr>\n",
       "    <tr>\n",
       "      <th>44</th>\n",
       "      <td>Yangon</td>\n",
       "      <td>[5, 6)</td>\n",
       "      <td>3</td>\n",
       "    </tr>\n",
       "  </tbody>\n",
       "</table>\n",
       "</div>"
      ],
      "text/plain": [
       "   location  maggrp  frequency\n",
       "42   Yangon  [3, 4)          3\n",
       "43   Yangon  [4, 5)         13\n",
       "44   Yangon  [5, 6)          3"
      ]
     },
     "execution_count": 22,
     "metadata": {},
     "output_type": "execute_result"
    }
   ],
   "source": [
    "grouping[grouping.location=='Yangon']"
   ]
  },
  {
   "cell_type": "code",
   "execution_count": 23,
   "metadata": {},
   "outputs": [
    {
     "data": {
      "text/plain": [
       "(2.9, 7.3)"
      ]
     },
     "execution_count": 23,
     "metadata": {},
     "output_type": "execute_result"
    }
   ],
   "source": [
    "mmeq_df.mag.min(), mmeq_df.mag.max()"
   ]
  },
  {
   "cell_type": "code",
   "execution_count": 24,
   "metadata": {},
   "outputs": [
    {
     "data": {
      "application/vnd.jupyter.widget-view+json": {
       "model_id": "db5e8745eecf48c1a6dd5f6dac2a3ab3",
       "version_major": 2,
       "version_minor": 0
      },
      "text/plain": [
       "interactive(children=(Dropdown(description='location', options=('Ayeyarwady', 'Bago', 'Bay of Bengal', 'Chin',…"
      ]
     },
     "metadata": {},
     "output_type": "display_data"
    }
   ],
   "source": [
    "@interact(location=grouping.location.unique())\n",
    "def region_mg_plot(location):\n",
    "    plt.figure(figsize=(8,6))\n",
    "    sub_df = grouping[grouping.location==location]\n",
    "    ax = sns.barplot('maggrp', 'frequency', data=sub_df)    "
   ]
  },
  {
   "cell_type": "code",
   "execution_count": 25,
   "metadata": {},
   "outputs": [
    {
     "data": {
      "text/html": [
       "<div>\n",
       "<style scoped>\n",
       "    .dataframe tbody tr th:only-of-type {\n",
       "        vertical-align: middle;\n",
       "    }\n",
       "\n",
       "    .dataframe tbody tr th {\n",
       "        vertical-align: top;\n",
       "    }\n",
       "\n",
       "    .dataframe thead th {\n",
       "        text-align: right;\n",
       "    }\n",
       "</style>\n",
       "<table border=\"1\" class=\"dataframe\">\n",
       "  <thead>\n",
       "    <tr style=\"text-align: right;\">\n",
       "      <th></th>\n",
       "      <th>location</th>\n",
       "      <th>maggrp</th>\n",
       "      <th>frequency</th>\n",
       "    </tr>\n",
       "  </thead>\n",
       "  <tbody>\n",
       "    <tr>\n",
       "      <th>0</th>\n",
       "      <td>Ayeyarwady</td>\n",
       "      <td>[3, 4)</td>\n",
       "      <td>4</td>\n",
       "    </tr>\n",
       "    <tr>\n",
       "      <th>1</th>\n",
       "      <td>Ayeyarwady</td>\n",
       "      <td>[4, 5)</td>\n",
       "      <td>32</td>\n",
       "    </tr>\n",
       "    <tr>\n",
       "      <th>2</th>\n",
       "      <td>Ayeyarwady</td>\n",
       "      <td>[5, 6)</td>\n",
       "      <td>1</td>\n",
       "    </tr>\n",
       "  </tbody>\n",
       "</table>\n",
       "</div>"
      ],
      "text/plain": [
       "     location  maggrp  frequency\n",
       "0  Ayeyarwady  [3, 4)          4\n",
       "1  Ayeyarwady  [4, 5)         32\n",
       "2  Ayeyarwady  [5, 6)          1"
      ]
     },
     "execution_count": 25,
     "metadata": {},
     "output_type": "execute_result"
    }
   ],
   "source": [
    "grouping[grouping.location=='Ayeyarwady']"
   ]
  },
  {
   "cell_type": "code",
   "execution_count": null,
   "metadata": {},
   "outputs": [],
   "source": []
  },
  {
   "cell_type": "code",
   "execution_count": null,
   "metadata": {},
   "outputs": [],
   "source": []
  }
 ],
 "metadata": {
  "kernelspec": {
   "display_name": "Python 3",
   "language": "python",
   "name": "python3"
  },
  "language_info": {
   "codemirror_mode": {
    "name": "ipython",
    "version": 3
   },
   "file_extension": ".py",
   "mimetype": "text/x-python",
   "name": "python",
   "nbconvert_exporter": "python",
   "pygments_lexer": "ipython3",
   "version": "3.7.5"
  }
 },
 "nbformat": 4,
 "nbformat_minor": 2
}
